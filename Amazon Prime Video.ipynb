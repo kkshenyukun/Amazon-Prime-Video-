{
 "cells": [
  {
   "cell_type": "code",
   "execution_count": 1,
   "metadata": {},
   "outputs": [],
   "source": [
    "# load packages\n",
    "%matplotlib inline\n",
    "import numpy as np\n",
    "import scipy\n",
    "import pandas as pd\n",
    "import matplotlib.pyplot as plt\n",
    "import statsmodels.formula.api as sm\n",
    "import seaborn as sns\n",
    "import sklearn as sl\n",
    "from sklearn import preprocessing\n",
    "pd.set_option('display.float_format', lambda x: '%.3f' % x)"
   ]
  },
  {
   "cell_type": "code",
   "execution_count": 2,
   "metadata": {},
   "outputs": [],
   "source": [
    "df = pd.read_csv('TVdata.txt')"
   ]
  },
  {
   "cell_type": "code",
   "execution_count": 4,
   "metadata": {},
   "outputs": [
    {
     "data": {
      "text/html": [
       "<div>\n",
       "<style scoped>\n",
       "    .dataframe tbody tr th:only-of-type {\n",
       "        vertical-align: middle;\n",
       "    }\n",
       "\n",
       "    .dataframe tbody tr th {\n",
       "        vertical-align: top;\n",
       "    }\n",
       "\n",
       "    .dataframe thead th {\n",
       "        text-align: right;\n",
       "    }\n",
       "</style>\n",
       "<table border=\"1\" class=\"dataframe\">\n",
       "  <thead>\n",
       "    <tr style=\"text-align: right;\">\n",
       "      <th></th>\n",
       "      <th>video_id</th>\n",
       "      <th>cvt_per_day</th>\n",
       "      <th>weighted_categorical_position</th>\n",
       "      <th>weighted_horizontal_poition</th>\n",
       "      <th>import_id</th>\n",
       "      <th>release_year</th>\n",
       "      <th>genres</th>\n",
       "      <th>imdb_votes</th>\n",
       "      <th>budget</th>\n",
       "      <th>boxoffice</th>\n",
       "      <th>imdb_rating</th>\n",
       "      <th>duration_in_mins</th>\n",
       "      <th>metacritic_score</th>\n",
       "      <th>awards</th>\n",
       "      <th>mpaa</th>\n",
       "      <th>star_category</th>\n",
       "    </tr>\n",
       "  </thead>\n",
       "  <tbody>\n",
       "    <tr>\n",
       "      <td>0</td>\n",
       "      <td>385504</td>\n",
       "      <td>307127.606</td>\n",
       "      <td>1</td>\n",
       "      <td>3</td>\n",
       "      <td>lionsgate</td>\n",
       "      <td>2013</td>\n",
       "      <td>Action,Thriller,Drama</td>\n",
       "      <td>69614</td>\n",
       "      <td>15000000</td>\n",
       "      <td>42930462</td>\n",
       "      <td>6.500</td>\n",
       "      <td>112.301</td>\n",
       "      <td>51</td>\n",
       "      <td>other award</td>\n",
       "      <td>PG-13</td>\n",
       "      <td>1.710</td>\n",
       "    </tr>\n",
       "    <tr>\n",
       "      <td>1</td>\n",
       "      <td>300175</td>\n",
       "      <td>270338.426</td>\n",
       "      <td>1</td>\n",
       "      <td>3</td>\n",
       "      <td>lionsgate</td>\n",
       "      <td>2013</td>\n",
       "      <td>Comedy,Crime,Thriller</td>\n",
       "      <td>46705</td>\n",
       "      <td>15000000</td>\n",
       "      <td>3301046</td>\n",
       "      <td>6.500</td>\n",
       "      <td>94.983</td>\n",
       "      <td>41</td>\n",
       "      <td>no award</td>\n",
       "      <td>R</td>\n",
       "      <td>3.250</td>\n",
       "    </tr>\n",
       "    <tr>\n",
       "      <td>2</td>\n",
       "      <td>361899</td>\n",
       "      <td>256165.867</td>\n",
       "      <td>1</td>\n",
       "      <td>3</td>\n",
       "      <td>other</td>\n",
       "      <td>2012</td>\n",
       "      <td>Crime,Drama</td>\n",
       "      <td>197596</td>\n",
       "      <td>26000000</td>\n",
       "      <td>37397291</td>\n",
       "      <td>7.300</td>\n",
       "      <td>115.764</td>\n",
       "      <td>58</td>\n",
       "      <td>other award</td>\n",
       "      <td>R</td>\n",
       "      <td>2.647</td>\n",
       "    </tr>\n",
       "    <tr>\n",
       "      <td>3</td>\n",
       "      <td>308314</td>\n",
       "      <td>196622.721</td>\n",
       "      <td>3</td>\n",
       "      <td>4</td>\n",
       "      <td>lionsgate</td>\n",
       "      <td>2008</td>\n",
       "      <td>Thriller,Drama,War,Documentary,Mystery,Action</td>\n",
       "      <td>356339</td>\n",
       "      <td>15000000</td>\n",
       "      <td>15700000</td>\n",
       "      <td>7.600</td>\n",
       "      <td>130.704</td>\n",
       "      <td>94</td>\n",
       "      <td>Oscar</td>\n",
       "      <td>R</td>\n",
       "      <td>1.667</td>\n",
       "    </tr>\n",
       "    <tr>\n",
       "      <td>4</td>\n",
       "      <td>307201</td>\n",
       "      <td>159841.652</td>\n",
       "      <td>1</td>\n",
       "      <td>3</td>\n",
       "      <td>lionsgate</td>\n",
       "      <td>2013</td>\n",
       "      <td>Crime,Thriller,Mystery,Documentary</td>\n",
       "      <td>46720</td>\n",
       "      <td>27220000</td>\n",
       "      <td>8551228</td>\n",
       "      <td>6.400</td>\n",
       "      <td>105.546</td>\n",
       "      <td>37</td>\n",
       "      <td>other award</td>\n",
       "      <td>R</td>\n",
       "      <td>3.067</td>\n",
       "    </tr>\n",
       "  </tbody>\n",
       "</table>\n",
       "</div>"
      ],
      "text/plain": [
       "   video_id  cvt_per_day  weighted_categorical_position  \\\n",
       "0    385504   307127.606                              1   \n",
       "1    300175   270338.426                              1   \n",
       "2    361899   256165.867                              1   \n",
       "3    308314   196622.721                              3   \n",
       "4    307201   159841.652                              1   \n",
       "\n",
       "   weighted_horizontal_poition  import_id  release_year  \\\n",
       "0                            3  lionsgate          2013   \n",
       "1                            3  lionsgate          2013   \n",
       "2                            3      other          2012   \n",
       "3                            4  lionsgate          2008   \n",
       "4                            3  lionsgate          2013   \n",
       "\n",
       "                                          genres  imdb_votes    budget  \\\n",
       "0                          Action,Thriller,Drama       69614  15000000   \n",
       "1                          Comedy,Crime,Thriller       46705  15000000   \n",
       "2                                    Crime,Drama      197596  26000000   \n",
       "3  Thriller,Drama,War,Documentary,Mystery,Action      356339  15000000   \n",
       "4             Crime,Thriller,Mystery,Documentary       46720  27220000   \n",
       "\n",
       "   boxoffice  imdb_rating  duration_in_mins  metacritic_score       awards  \\\n",
       "0   42930462        6.500           112.301                51  other award   \n",
       "1    3301046        6.500            94.983                41     no award   \n",
       "2   37397291        7.300           115.764                58  other award   \n",
       "3   15700000        7.600           130.704                94        Oscar   \n",
       "4    8551228        6.400           105.546                37  other award   \n",
       "\n",
       "    mpaa  star_category  \n",
       "0  PG-13          1.710  \n",
       "1      R          3.250  \n",
       "2      R          2.647  \n",
       "3      R          1.667  \n",
       "4      R          3.067  "
      ]
     },
     "execution_count": 4,
     "metadata": {},
     "output_type": "execute_result"
    }
   ],
   "source": [
    "df.head()"
   ]
  },
  {
   "cell_type": "code",
   "execution_count": 6,
   "metadata": {},
   "outputs": [
    {
     "data": {
      "text/plain": [
       "(4226, 16)"
      ]
     },
     "execution_count": 6,
     "metadata": {},
     "output_type": "execute_result"
    }
   ],
   "source": [
    "df.shape"
   ]
  },
  {
   "cell_type": "markdown",
   "metadata": {},
   "source": [
    "# 1. Data Exploration"
   ]
  },
  {
   "cell_type": "code",
   "execution_count": 10,
   "metadata": {},
   "outputs": [
    {
     "name": "stdout",
     "output_type": "stream",
     "text": [
      "There is no duplicated entry\n"
     ]
    }
   ],
   "source": [
    "### check if a video_id appeared more than once\n",
    "print ('There is no duplicated entry') if df.video_id.nunique() == len(df) else 'There is duplicated entry'"
   ]
  },
  {
   "cell_type": "code",
   "execution_count": 17,
   "metadata": {},
   "outputs": [
    {
     "name": "stdout",
     "output_type": "stream",
     "text": [
      "       cvt_per_day  weighted_categorical_position  \\\n",
      "count     4226.000                       4226.000   \n",
      "mean      4218.630                          7.783   \n",
      "std      13036.080                          6.134   \n",
      "min          2.188                          1.000   \n",
      "10%        141.985                          3.000   \n",
      "25%        351.169                          4.000   \n",
      "50%       1193.500                          6.000   \n",
      "75%       3356.789                          9.000   \n",
      "95%      14692.834                         22.000   \n",
      "max     307127.606                         41.000   \n",
      "\n",
      "       weighted_horizontal_poition  imdb_votes        budget     boxoffice  \\\n",
      "count                     4226.000    4226.000      4226.000      4226.000   \n",
      "mean                        28.104    6462.924   2150743.439   2536338.472   \n",
      "std                         11.864   31596.007   7176604.483   8243516.266   \n",
      "min                          1.000       0.000         0.000         0.000   \n",
      "10%                         13.000       8.000         0.000         0.000   \n",
      "25%                         20.000      81.000         0.000         0.000   \n",
      "50%                         28.000     535.000         0.000         0.000   \n",
      "75%                         36.000    3053.000   1500000.000         0.000   \n",
      "95%                         48.000   26199.500  12000000.000   8551228.000   \n",
      "max                         70.000  948630.000 107000000.000 184208848.000   \n",
      "\n",
      "       imdb_rating  duration_in_mins  metacritic_score  star_category  \n",
      "count     4226.000          4226.000          4226.000       4226.000  \n",
      "mean         5.257            89.556            15.974          0.955  \n",
      "std          2.123            21.086            26.205          0.955  \n",
      "min          0.000             4.037             0.000          0.000  \n",
      "10%          2.300            62.391             0.000          0.000  \n",
      "25%          4.300            82.602             0.000          0.000  \n",
      "50%          5.800            90.730             0.000          1.000  \n",
      "75%          6.800            99.500            41.000          1.667  \n",
      "95%          7.800           119.131            65.000          2.597  \n",
      "max         10.000           246.017           100.000          4.000  \n",
      "video_id                        0.000\n",
      "cvt_per_day                     0.000\n",
      "weighted_categorical_position   0.000\n",
      "weighted_horizontal_poition     0.000\n",
      "import_id                       0.000\n",
      "release_year                    0.000\n",
      "genres                          0.000\n",
      "imdb_votes                      0.081\n",
      "budget                          0.581\n",
      "boxoffice                       0.756\n",
      "imdb_rating                     0.081\n",
      "duration_in_mins                0.000\n",
      "metacritic_score                0.713\n",
      "awards                          0.000\n",
      "mpaa                            0.000\n",
      "star_category                   0.437\n",
      "dtype: float64\n",
      "video_id                           int64\n",
      "cvt_per_day                      float64\n",
      "weighted_categorical_position      int64\n",
      "weighted_horizontal_poition        int64\n",
      "import_id                         object\n",
      "release_year                       int64\n",
      "genres                            object\n",
      "imdb_votes                         int64\n",
      "budget                             int64\n",
      "boxoffice                          int64\n",
      "imdb_rating                      float64\n",
      "duration_in_mins                 float64\n",
      "metacritic_score                   int64\n",
      "awards                            object\n",
      "mpaa                              object\n",
      "star_category                    float64\n",
      "dtype: object\n"
     ]
    }
   ],
   "source": [
    "### overview of numerical features\n",
    "print (df.drop(['video_id', 'release_year'],axis=1).describe(percentiles = [.1, .25, .5, .75, .95]))\n",
    "print(((df == 0).sum()) / len(df))\n",
    "print (df.dtypes)"
   ]
  },
  {
   "cell_type": "markdown",
   "metadata": {},
   "source": [
    "###### Among the 10 numerical features (not include video_id and release_year), 4 features have over 25% of missing data: budget, boxoffice, metacritic_score, star_category. 2 features have less than 10% of missing data: imdb_votes, imdb_rating.\n",
    "\n"
   ]
  },
  {
   "cell_type": "code",
   "execution_count": 22,
   "metadata": {},
   "outputs": [
    {
     "name": "stderr",
     "output_type": "stream",
     "text": [
      "/Users/yukunshen/opt/anaconda3/lib/python3.7/site-packages/ipykernel_launcher.py:2: MatplotlibDeprecationWarning: \n",
      "The 'normed' kwarg was deprecated in Matplotlib 2.1 and will be removed in 3.1. Use 'density' instead.\n",
      "  \n"
     ]
    },
    {
     "data": {
      "image/png": "[encoded data removed]",
      "text/plain": [
       "<Figure size 432x288 with 1 Axes>"
      ]
     },
     "metadata": {
      "needs_background": "light"
     },
     "output_type": "display_data"
    },
    {
     "name": "stderr",
     "output_type": "stream",
     "text": [
      "/Users/yukunshen/opt/anaconda3/lib/python3.7/site-packages/ipykernel_launcher.py:10: MatplotlibDeprecationWarning: \n",
      "The 'normed' kwarg was deprecated in Matplotlib 2.1 and will be removed in 3.1. Use 'density' instead.\n",
      "  # Remove the CWD from sys.path while we load stuff.\n"
     ]
    },
    {
     "data": {
      "image/png": "[encoded data removed]",
      "text/plain": [
       "<Figure size 432x288 with 1 Axes>"
      ]
     },
     "metadata": {
      "needs_background": "light"
     },
     "output_type": "display_data"
    }
   ],
   "source": [
    "# cvt_per_day data explore\n",
    "plt.hist(df['cvt_per_day'].values, bins = range(0,15000, 30), alpha = 0.5, color='r', label = 'cvt_per_day', normed = True)\n",
    "plt.legend(loc ='upper right')\n",
    "plt.title('Historgrams of cvt_per_day before data processing')\n",
    "plt.xlabel('cvt_per_day')\n",
    "plt.ylabel('density')\n",
    "plt.show()\n",
    "\n",
    "# log scale of y due to large variation\n",
    "plt.hist(df['cvt_per_day'].values, log = True, bins = range(0,15000, 30), alpha = 0.5, color='g', label = 'cvt_per_day_log_scale', normed = True)\n",
    "plt.legend(loc ='upper right')\n",
    "plt.title('Historgrams of cvt_per_day before data processing')\n",
    "plt.xlabel('cvt_per_day_log_scale')\n",
    "plt.ylabel('density')\n",
    "plt.show()"
   ]
  },
  {
   "cell_type": "code",
   "execution_count": 23,
   "metadata": {},
   "outputs": [
    {
     "data": {
      "text/plain": [
       "<matplotlib.axes._subplots.AxesSubplot at 0x1a1cc7d510>"
      ]
     },
     "execution_count": 23,
     "metadata": {},
     "output_type": "execute_result"
    },
    {
     "data": {
      "image/png": "[encoded data removed]",
      "text/plain": [
       "<Figure size 432x288 with 2 Axes>"
      ]
     },
     "metadata": {
      "needs_background": "light"
     },
     "output_type": "display_data"
    }
   ],
   "source": [
    "# correlation among numerical features\n",
    "corr = df[['cvt_per_day','weighted_categorical_position','weighted_horizontal_poition'\n",
    "               ,'release_year', 'imdb_votes', 'budget', 'boxoffice' ,'imdb_rating', \n",
    "               'duration_in_mins', 'metacritic_score', 'star_category']].corr()\n",
    "\n",
    "sns.heatmap(corr, cmap=\"YlGnBu\")"
   ]
  },
  {
   "cell_type": "code",
   "execution_count": 29,
   "metadata": {},
   "outputs": [
    {
     "data": {
      "image/png": "[encoded data removed]",
      "text/plain": [
       "<Figure size 432x288 with 1 Axes>"
      ]
     },
     "metadata": {
      "needs_background": "light"
     },
     "output_type": "display_data"
    },
    {
     "name": "stdout",
     "output_type": "stream",
     "text": [
      "       index  import_id\n",
      "0      other       2963\n",
      "1  lionsgate        677\n",
      "2        mgm        445\n",
      "3  paramount        141\n"
     ]
    },
    {
     "data": {
      "image/png": "[encoded data removed]",
      "text/plain": [
       "<Figure size 432x288 with 1 Axes>"
      ]
     },
     "metadata": {
      "needs_background": "light"
     },
     "output_type": "display_data"
    },
    {
     "name": "stdout",
     "output_type": "stream",
     "text": [
      "      index  mpaa\n",
      "0  NotRated  2158\n",
      "1         R  1158\n",
      "2     PG-13   426\n",
      "3        PG   353\n",
      "4         G   125\n",
      "5     NC-17     6\n"
     ]
    },
    {
     "data": {
      "image/png": "[encoded data removed]",
      "text/plain": [
       "<Figure size 432x288 with 1 Axes>"
      ]
     },
     "metadata": {
      "needs_background": "light"
     },
     "output_type": "display_data"
    },
    {
     "name": "stdout",
     "output_type": "stream",
     "text": [
      "          index  awards\n",
      "0      no award    2569\n",
      "1   other award    1453\n",
      "2         Oscar     141\n",
      "3  Golden Globe      44\n",
      "4         BAFTA      19\n"
     ]
    }
   ],
   "source": [
    "### categorical features exploration\n",
    "sns.stripplot(x='import_id', y='cvt_per_day', data=df, jitter=True)\n",
    "plt.show()\n",
    "print (df['import_id'].value_counts().reset_index())\n",
    "\n",
    "sns.stripplot(x='mpaa', y='cvt_per_day', data=df, jitter=True)\n",
    "plt.show()\n",
    "print (df['mpaa'].value_counts().reset_index())\n",
    "\n",
    "sns.stripplot(x='awards', y='cvt_per_day', data=df, jitter=True)\n",
    "plt.show()\n",
    "print (df['awards'].value_counts().reset_index())"
   ]
  },
  {
   "cell_type": "code",
   "execution_count": 32,
   "metadata": {},
   "outputs": [
    {
     "data": {
      "text/plain": [
       "<matplotlib.axes._subplots.AxesSubplot at 0x1a1e07e650>"
      ]
     },
     "execution_count": 32,
     "metadata": {},
     "output_type": "execute_result"
    },
    {
     "data": {
      "image/png": "[encoded data removed]",
      "text/plain": [
       "<Figure size 432x288 with 1 Axes>"
      ]
     },
     "metadata": {
      "needs_background": "light"
     },
     "output_type": "display_data"
    }
   ],
   "source": [
    "### a movie could belong to more than 1 genre, so we need to split the column to get distribution of each genre\n",
    "### 6 genres have low frequency, thus later be grouped together under genres column\n",
    "df.genres.str.get_dummies(sep=',').sum().sort_values(ascending = False).plot.bar()"
   ]
  },
  {
   "cell_type": "code",
   "execution_count": 35,
   "metadata": {},
   "outputs": [
    {
     "name": "stderr",
     "output_type": "stream",
     "text": [
      "/Users/yukunshen/opt/anaconda3/lib/python3.7/site-packages/ipykernel_launcher.py:3: MatplotlibDeprecationWarning: \n",
      "The 'normed' kwarg was deprecated in Matplotlib 2.1 and will be removed in 3.1. Use 'density' instead.\n",
      "  This is separate from the ipykernel package so we can avoid doing imports until\n"
     ]
    },
    {
     "data": {
      "image/png": "[encoded data removed]",
      "text/plain": [
       "<Figure size 432x288 with 1 Axes>"
      ]
     },
     "metadata": {
      "needs_background": "light"
     },
     "output_type": "display_data"
    },
    {
     "name": "stdout",
     "output_type": "stream",
     "text": [
      "count   4226.000\n",
      "mean    2001.057\n",
      "std       17.497\n",
      "min     1916.000\n",
      "10%     1974.000\n",
      "20%     1991.000\n",
      "30%     2001.000\n",
      "40%     2006.000\n",
      "50%     2008.000\n",
      "60%     2010.000\n",
      "70%     2012.000\n",
      "80%     2013.000\n",
      "90%     2014.000\n",
      "max     2017.000\n",
      "Name: release_year, dtype: float64\n"
     ]
    }
   ],
   "source": [
    "# distribution of release year\n",
    "# The release year of video varies through a wide range. Considering the popularity of a video usually \n",
    "# decays over time, the release_year should be bucketed based on the release_year range.\n",
    "plt.figure(1)\n",
    "plt.hist(df['release_year'].values, bins = range(1910, 2017, 1), alpha = 0.5, color='r', label = 'release_year', normed = True)\n",
    "plt.legend(loc ='upper left')\n",
    "plt.title('Historgrams of release_year before data processing')\n",
    "plt.xlabel('release_year')\n",
    "plt.ylabel('density')\n",
    "plt.show()\n",
    "\n",
    "print (df['release_year'].describe(percentiles = [.1, .2, .3, .4,.5, .6, .7, .8, .9]))"
   ]
  },
  {
   "cell_type": "markdown",
   "metadata": {},
   "source": [
    "# 2. Feature Preprocessing"
   ]
  },
  {
   "cell_type": "markdown",
   "metadata": {},
   "source": [
    "### Categorical Features\n",
    "There are 5 categorical features: import_id, mpaa, awards, genres, and release_year. There is no missing data in them. They can be converted into dummy/indicators.\n",
    "\n",
    "The first 3 have relatively small sub-types, they can be easily converted to dummies.\n",
    "\n",
    "The 'genres' have 27 different sub-types, 6 of them are rarely observed (refer to previous section). It's reasonable to group these 6 into 1. Note: a video may have more than one genre, in the feature preprocessing, all genres are handled individually.\n",
    "\n",
    "The release_year is bined into 10 buckets based on the year range between 1917 and 2017"
   ]
  },
  {
   "cell_type": "code",
   "execution_count": 36,
   "metadata": {},
   "outputs": [],
   "source": [
    "# Convert 3 Categorical variables into dummy variables\n",
    "d_import_id = pd.get_dummies(df['import_id']).astype(np.int64)\n",
    "d_mpaa = pd.get_dummies(df['mpaa']).astype(np.int64)\n",
    "d_awards = pd.get_dummies(df['awards']).astype(np.int64)"
   ]
  },
  {
   "cell_type": "code",
   "execution_count": 45,
   "metadata": {},
   "outputs": [],
   "source": [
    "# convert genres into dummy variables\n",
    "d_genres = df.genres.str.get_dummies(sep=',')\n",
    "# combine 6 smallest genres into a new genre 'Misc_gen'.  then drop these 6 columns.\n",
    "d_genres['Misc_gen'] = d_genres['Anime'] * d_genres['Reality']|d_genres['Lifestyle']|d_genres['Adult']|d_genres['LGBT']|d_genres['Holiday']\n",
    "d_genres.drop(['Anime', 'Reality','Lifestyle', 'Adult','LGBT','Holiday'], inplace=True, axis=1)"
   ]
  },
  {
   "cell_type": "code",
   "execution_count": 48,
   "metadata": {},
   "outputs": [],
   "source": [
    "# bin release year based on percentiles and convert into dummies\n",
    "bin_year = [1916, 1974, 1991, 2001, 2006, 2008, 2010, 2012, 2013, 2014,2017]\n",
    "year_range = ['1916-1974', '1974-1991', '1991-2001', '2001-2006','2006-2008','2008-2010','2010-2012','2012-2013',\n",
    "              '2013-2014','2014-2017']\n",
    "year_bin = pd.cut(df['release_year'], bin_year, labels=year_range)\n",
    "d_year = pd.get_dummies(year_bin).astype(np.int64)"
   ]
  },
  {
   "cell_type": "code",
   "execution_count": 51,
   "metadata": {},
   "outputs": [],
   "source": [
    "# now we are ready to join those dummy varible back to our original dataframe\n",
    "# first, we would need to drop categorical columns from our original dataframe\n",
    "df1 = df.drop(columns = ['import_id', 'mpaa','awards','genres', 'release_year'])"
   ]
  },
  {
   "cell_type": "code",
   "execution_count": 74,
   "metadata": {},
   "outputs": [
    {
     "name": "stdout",
     "output_type": "stream",
     "text": [
      "<bound method NDFrame.head of       video_id  cvt_per_day  weighted_categorical_position  \\\n",
      "0       385504   307127.606                              1   \n",
      "1       300175   270338.426                              1   \n",
      "2       361899   256165.867                              1   \n",
      "3       308314   196622.721                              3   \n",
      "4       307201   159841.652                              1   \n",
      "...        ...          ...                            ...   \n",
      "4221    160848        9.726                              3   \n",
      "4222    365178        7.913                             29   \n",
      "4223     11615        2.936                              3   \n",
      "4224     26365        2.867                              4   \n",
      "4225     11229        2.188                              7   \n",
      "\n",
      "      weighted_horizontal_poition  imdb_votes    budget  boxoffice  \\\n",
      "0                               3       69614  15000000   42930462   \n",
      "1                               3       46705  15000000    3301046   \n",
      "2                               3      197596  26000000   37397291   \n",
      "3                               4      356339  15000000   15700000   \n",
      "4                               3       46720  27220000    8551228   \n",
      "...                           ...         ...       ...        ...   \n",
      "4221                           32          14         0          0   \n",
      "4222                           35           0         0          0   \n",
      "4223                           27         505         0          0   \n",
      "4224                           15           5    100000          0   \n",
      "4225                           35          80         0          0   \n",
      "\n",
      "      imdb_rating  duration_in_mins  metacritic_score  ...  1916-1974  \\\n",
      "0           6.500           112.301                51  ...          0   \n",
      "1           6.500            94.983                41  ...          0   \n",
      "2           7.300           115.764                58  ...          0   \n",
      "3           7.600           130.704                94  ...          0   \n",
      "4           6.400           105.546                37  ...          0   \n",
      "...           ...               ...               ...  ...        ...   \n",
      "4221        7.800             4.312                 0  ...          0   \n",
      "4222        0.000             4.879                 0  ...          0   \n",
      "4223        7.100           110.350                 0  ...          0   \n",
      "4224        6.000            79.633                 0  ...          0   \n",
      "4225        7.600            53.618                 0  ...          0   \n",
      "\n",
      "      1974-1991  1991-2001  2001-2006  2006-2008  2008-2010  2010-2012  \\\n",
      "0             0          0          0          0          0          0   \n",
      "1             0          0          0          0          0          0   \n",
      "2             0          0          0          0          0          1   \n",
      "3             0          0          0          1          0          0   \n",
      "4             0          0          0          0          0          0   \n",
      "...         ...        ...        ...        ...        ...        ...   \n",
      "4221          0          0          0          0          1          0   \n",
      "4222          0          0          0          0          0          0   \n",
      "4223          0          0          0          1          0          0   \n",
      "4224          0          0          1          0          0          0   \n",
      "4225          0          0          1          0          0          0   \n",
      "\n",
      "      2012-2013  2013-2014  2014-2017  \n",
      "0             1          0          0  \n",
      "1             1          0          0  \n",
      "2             0          0          0  \n",
      "3             0          0          0  \n",
      "4             1          0          0  \n",
      "...         ...        ...        ...  \n",
      "4221          0          0          0  \n",
      "4222          1          0          0  \n",
      "4223          0          0          0  \n",
      "4224          0          0          0  \n",
      "4225          0          0          0  \n",
      "\n",
      "[4226 rows x 58 columns]>\n",
      "(4226, 58)\n"
     ]
    }
   ],
   "source": [
    "# perform outter join on all dataframes\n",
    "# after convering categorical varibles, we now have a dataframe with 58 columns\n",
    "df2 = pd.concat([df1,d_import_id,d_mpaa,d_awards,d_genres,d_year],axis=1)\n",
    "print(df2.head)\n",
    "print(df2.shape)"
   ]
  },
  {
   "cell_type": "markdown",
   "metadata": {},
   "source": [
    "### Handling of Missing Data\n",
    "Among the 10 numerical features (not include video_id), 4 features have over 25% of missing values (shown as '0', which is not possible in reality): budget, boxoffice, metacritic_score, star_category. 2 features have less than 10% of missing data: imdb_votes, imdb_rating.\n",
    "\n",
    "There are 3242 samples have at least one missing data."
   ]
  },
  {
   "cell_type": "code",
   "execution_count": 75,
   "metadata": {},
   "outputs": [],
   "source": [
    "df3 = df2.copy()"
   ]
  },
  {
   "cell_type": "code",
   "execution_count": 78,
   "metadata": {},
   "outputs": [],
   "source": [
    "# replace all 0 values with np.nan\n",
    "df3[['budget','boxoffice','metacritic_score','star_category','imdb_votes','imdb_rating']] = \\\n",
    "df3[['budget','boxoffice','metacritic_score','star_category','imdb_votes','imdb_rating']].replace(0,np.nan)"
   ]
  },
  {
   "cell_type": "code",
   "execution_count": 80,
   "metadata": {
    "scrolled": true
   },
   "outputs": [
    {
     "name": "stdout",
     "output_type": "stream",
     "text": [
      "video_id                            0\n",
      "cvt_per_day                         0\n",
      "weighted_categorical_position       0\n",
      "weighted_horizontal_poition         0\n",
      "imdb_votes                        344\n",
      "budget                           2454\n",
      "boxoffice                        3194\n",
      "imdb_rating                       344\n",
      "duration_in_mins                    0\n",
      "metacritic_score                 3012\n",
      "star_category                    1846\n",
      "lionsgate                           0\n",
      "mgm                                 0\n",
      "other                               0\n",
      "paramount                           0\n",
      "G                                   0\n",
      "NC-17                               0\n",
      "NotRated                            0\n",
      "PG                                  0\n",
      "PG-13                               0\n",
      "R                                   0\n",
      "BAFTA                               0\n",
      "Golden Globe                        0\n",
      "Oscar                               0\n",
      "no award                            0\n",
      "other award                         0\n",
      "Action                              0\n",
      "Adventure                           0\n",
      "Animation                           0\n",
      "Comedy                              0\n",
      "Crime                               0\n",
      "Documentary                         0\n",
      "Drama                               0\n",
      "Fantasy                             0\n",
      "Foreign/International               0\n",
      "Horror                              0\n",
      "Independent                         0\n",
      "Kids & Family                       0\n",
      "Music                               0\n",
      "Musicals                            0\n",
      "Mystery                             0\n",
      "Romance                             0\n",
      "Sci-Fi                              0\n",
      "Sport                               0\n",
      "Thriller                            0\n",
      "War                                 0\n",
      "Western                             0\n",
      "Misc_gen                            0\n",
      "1916-1974                           0\n",
      "1974-1991                           0\n",
      "1991-2001                           0\n",
      "2001-2006                           0\n",
      "2006-2008                           0\n",
      "2008-2010                           0\n",
      "2010-2012                           0\n",
      "2012-2013                           0\n",
      "2013-2014                           0\n",
      "2014-2017                           0\n",
      "dtype: int64\n"
     ]
    }
   ],
   "source": [
    "print(df3.isna().sum())"
   ]
  },
  {
   "cell_type": "code",
   "execution_count": 89,
   "metadata": {},
   "outputs": [],
   "source": [
    "# fill all NA values with mean value respectively \n",
    "df3.imdb_votes.fillna(df3.imdb_votes.mean(),inplace=True)\n",
    "df3.budget.fillna(df3.budget.mean(),inplace=True)\n",
    "df3.boxoffice.fillna(df3.boxoffice.mean(),inplace=True)\n",
    "df3.imdb_rating.fillna(df3.imdb_rating.mean(),inplace=True)\n",
    "df3.metacritic_score.fillna(df3.metacritic_score.mean(),inplace=True)\n",
    "df3.star_category.fillna(df3.star_category.mean(),inplace=True)"
   ]
  },
  {
   "cell_type": "markdown",
   "metadata": {},
   "source": [
    "### Feature Scaling\n",
    "\n",
    "The impact of different scaling methods on the model performance is small. In the following model training and selections, the standard scaling (sc) data is used."
   ]
  },
  {
   "cell_type": "code",
   "execution_count": 91,
   "metadata": {},
   "outputs": [
    {
     "data": {
      "text/html": [
       "<div>\n",
       "<style scoped>\n",
       "    .dataframe tbody tr th:only-of-type {\n",
       "        vertical-align: middle;\n",
       "    }\n",
       "\n",
       "    .dataframe tbody tr th {\n",
       "        vertical-align: top;\n",
       "    }\n",
       "\n",
       "    .dataframe thead th {\n",
       "        text-align: right;\n",
       "    }\n",
       "</style>\n",
       "<table border=\"1\" class=\"dataframe\">\n",
       "  <thead>\n",
       "    <tr style=\"text-align: right;\">\n",
       "      <th></th>\n",
       "      <th>video_id</th>\n",
       "      <th>cvt_per_day</th>\n",
       "      <th>weighted_categorical_position</th>\n",
       "      <th>weighted_horizontal_poition</th>\n",
       "      <th>imdb_votes</th>\n",
       "      <th>budget</th>\n",
       "      <th>boxoffice</th>\n",
       "      <th>imdb_rating</th>\n",
       "      <th>duration_in_mins</th>\n",
       "      <th>metacritic_score</th>\n",
       "      <th>...</th>\n",
       "      <th>1916-1974</th>\n",
       "      <th>1974-1991</th>\n",
       "      <th>1991-2001</th>\n",
       "      <th>2001-2006</th>\n",
       "      <th>2006-2008</th>\n",
       "      <th>2008-2010</th>\n",
       "      <th>2010-2012</th>\n",
       "      <th>2012-2013</th>\n",
       "      <th>2013-2014</th>\n",
       "      <th>2014-2017</th>\n",
       "    </tr>\n",
       "  </thead>\n",
       "  <tbody>\n",
       "    <tr>\n",
       "      <td>0</td>\n",
       "      <td>385504</td>\n",
       "      <td>307127.606</td>\n",
       "      <td>1</td>\n",
       "      <td>3</td>\n",
       "      <td>69614.000</td>\n",
       "      <td>15000000.000</td>\n",
       "      <td>42930462.000</td>\n",
       "      <td>6.500</td>\n",
       "      <td>112.301</td>\n",
       "      <td>51.000</td>\n",
       "      <td>...</td>\n",
       "      <td>0</td>\n",
       "      <td>0</td>\n",
       "      <td>0</td>\n",
       "      <td>0</td>\n",
       "      <td>0</td>\n",
       "      <td>0</td>\n",
       "      <td>0</td>\n",
       "      <td>1</td>\n",
       "      <td>0</td>\n",
       "      <td>0</td>\n",
       "    </tr>\n",
       "    <tr>\n",
       "      <td>1</td>\n",
       "      <td>300175</td>\n",
       "      <td>270338.426</td>\n",
       "      <td>1</td>\n",
       "      <td>3</td>\n",
       "      <td>46705.000</td>\n",
       "      <td>15000000.000</td>\n",
       "      <td>3301046.000</td>\n",
       "      <td>6.500</td>\n",
       "      <td>94.983</td>\n",
       "      <td>41.000</td>\n",
       "      <td>...</td>\n",
       "      <td>0</td>\n",
       "      <td>0</td>\n",
       "      <td>0</td>\n",
       "      <td>0</td>\n",
       "      <td>0</td>\n",
       "      <td>0</td>\n",
       "      <td>0</td>\n",
       "      <td>1</td>\n",
       "      <td>0</td>\n",
       "      <td>0</td>\n",
       "    </tr>\n",
       "    <tr>\n",
       "      <td>2</td>\n",
       "      <td>361899</td>\n",
       "      <td>256165.867</td>\n",
       "      <td>1</td>\n",
       "      <td>3</td>\n",
       "      <td>197596.000</td>\n",
       "      <td>26000000.000</td>\n",
       "      <td>37397291.000</td>\n",
       "      <td>7.300</td>\n",
       "      <td>115.764</td>\n",
       "      <td>58.000</td>\n",
       "      <td>...</td>\n",
       "      <td>0</td>\n",
       "      <td>0</td>\n",
       "      <td>0</td>\n",
       "      <td>0</td>\n",
       "      <td>0</td>\n",
       "      <td>0</td>\n",
       "      <td>1</td>\n",
       "      <td>0</td>\n",
       "      <td>0</td>\n",
       "      <td>0</td>\n",
       "    </tr>\n",
       "    <tr>\n",
       "      <td>3</td>\n",
       "      <td>308314</td>\n",
       "      <td>196622.721</td>\n",
       "      <td>3</td>\n",
       "      <td>4</td>\n",
       "      <td>356339.000</td>\n",
       "      <td>15000000.000</td>\n",
       "      <td>15700000.000</td>\n",
       "      <td>7.600</td>\n",
       "      <td>130.704</td>\n",
       "      <td>94.000</td>\n",
       "      <td>...</td>\n",
       "      <td>0</td>\n",
       "      <td>0</td>\n",
       "      <td>0</td>\n",
       "      <td>0</td>\n",
       "      <td>1</td>\n",
       "      <td>0</td>\n",
       "      <td>0</td>\n",
       "      <td>0</td>\n",
       "      <td>0</td>\n",
       "      <td>0</td>\n",
       "    </tr>\n",
       "    <tr>\n",
       "      <td>4</td>\n",
       "      <td>307201</td>\n",
       "      <td>159841.652</td>\n",
       "      <td>1</td>\n",
       "      <td>3</td>\n",
       "      <td>46720.000</td>\n",
       "      <td>27220000.000</td>\n",
       "      <td>8551228.000</td>\n",
       "      <td>6.400</td>\n",
       "      <td>105.546</td>\n",
       "      <td>37.000</td>\n",
       "      <td>...</td>\n",
       "      <td>0</td>\n",
       "      <td>0</td>\n",
       "      <td>0</td>\n",
       "      <td>0</td>\n",
       "      <td>0</td>\n",
       "      <td>0</td>\n",
       "      <td>0</td>\n",
       "      <td>1</td>\n",
       "      <td>0</td>\n",
       "      <td>0</td>\n",
       "    </tr>\n",
       "  </tbody>\n",
       "</table>\n",
       "<p>5 rows × 58 columns</p>\n",
       "</div>"
      ],
      "text/plain": [
       "   video_id  cvt_per_day  weighted_categorical_position  \\\n",
       "0    385504   307127.606                              1   \n",
       "1    300175   270338.426                              1   \n",
       "2    361899   256165.867                              1   \n",
       "3    308314   196622.721                              3   \n",
       "4    307201   159841.652                              1   \n",
       "\n",
       "   weighted_horizontal_poition  imdb_votes       budget    boxoffice  \\\n",
       "0                            3   69614.000 15000000.000 42930462.000   \n",
       "1                            3   46705.000 15000000.000  3301046.000   \n",
       "2                            3  197596.000 26000000.000 37397291.000   \n",
       "3                            4  356339.000 15000000.000 15700000.000   \n",
       "4                            3   46720.000 27220000.000  8551228.000   \n",
       "\n",
       "   imdb_rating  duration_in_mins  metacritic_score  ...  1916-1974  1974-1991  \\\n",
       "0        6.500           112.301            51.000  ...          0          0   \n",
       "1        6.500            94.983            41.000  ...          0          0   \n",
       "2        7.300           115.764            58.000  ...          0          0   \n",
       "3        7.600           130.704            94.000  ...          0          0   \n",
       "4        6.400           105.546            37.000  ...          0          0   \n",
       "\n",
       "   1991-2001  2001-2006  2006-2008  2008-2010  2010-2012  2012-2013  \\\n",
       "0          0          0          0          0          0          1   \n",
       "1          0          0          0          0          0          1   \n",
       "2          0          0          0          0          1          0   \n",
       "3          0          0          1          0          0          0   \n",
       "4          0          0          0          0          0          1   \n",
       "\n",
       "   2013-2014  2014-2017  \n",
       "0          0          0  \n",
       "1          0          0  \n",
       "2          0          0  \n",
       "3          0          0  \n",
       "4          0          0  \n",
       "\n",
       "[5 rows x 58 columns]"
      ]
     },
     "execution_count": 91,
     "metadata": {},
     "output_type": "execute_result"
    }
   ],
   "source": [
    "df3.head()"
   ]
  },
  {
   "cell_type": "code",
   "execution_count": 92,
   "metadata": {},
   "outputs": [
    {
     "data": {
      "text/html": [
       "<div>\n",
       "<style scoped>\n",
       "    .dataframe tbody tr th:only-of-type {\n",
       "        vertical-align: middle;\n",
       "    }\n",
       "\n",
       "    .dataframe tbody tr th {\n",
       "        vertical-align: top;\n",
       "    }\n",
       "\n",
       "    .dataframe thead th {\n",
       "        text-align: right;\n",
       "    }\n",
       "</style>\n",
       "<table border=\"1\" class=\"dataframe\">\n",
       "  <thead>\n",
       "    <tr style=\"text-align: right;\">\n",
       "      <th></th>\n",
       "      <th>video_id</th>\n",
       "      <th>cvt_per_day</th>\n",
       "      <th>weighted_categorical_position</th>\n",
       "      <th>weighted_horizontal_poition</th>\n",
       "      <th>imdb_votes</th>\n",
       "      <th>budget</th>\n",
       "      <th>boxoffice</th>\n",
       "      <th>imdb_rating</th>\n",
       "      <th>duration_in_mins</th>\n",
       "      <th>metacritic_score</th>\n",
       "      <th>...</th>\n",
       "      <th>1916-1974</th>\n",
       "      <th>1974-1991</th>\n",
       "      <th>1991-2001</th>\n",
       "      <th>2001-2006</th>\n",
       "      <th>2006-2008</th>\n",
       "      <th>2008-2010</th>\n",
       "      <th>2010-2012</th>\n",
       "      <th>2012-2013</th>\n",
       "      <th>2013-2014</th>\n",
       "      <th>2014-2017</th>\n",
       "    </tr>\n",
       "  </thead>\n",
       "  <tbody>\n",
       "    <tr>\n",
       "      <td>0</td>\n",
       "      <td>385504</td>\n",
       "      <td>307127.606</td>\n",
       "      <td>-1.106</td>\n",
       "      <td>-2.116</td>\n",
       "      <td>1.984</td>\n",
       "      <td>1.470</td>\n",
       "      <td>4.696</td>\n",
       "      <td>0.542</td>\n",
       "      <td>1.079</td>\n",
       "      <td>-0.630</td>\n",
       "      <td>...</td>\n",
       "      <td>0</td>\n",
       "      <td>0</td>\n",
       "      <td>0</td>\n",
       "      <td>0</td>\n",
       "      <td>0</td>\n",
       "      <td>0</td>\n",
       "      <td>0</td>\n",
       "      <td>1</td>\n",
       "      <td>0</td>\n",
       "      <td>0</td>\n",
       "    </tr>\n",
       "    <tr>\n",
       "      <td>1</td>\n",
       "      <td>300175</td>\n",
       "      <td>270338.426</td>\n",
       "      <td>-1.106</td>\n",
       "      <td>-2.116</td>\n",
       "      <td>1.258</td>\n",
       "      <td>1.470</td>\n",
       "      <td>-1.022</td>\n",
       "      <td>0.542</td>\n",
       "      <td>0.257</td>\n",
       "      <td>-1.997</td>\n",
       "      <td>...</td>\n",
       "      <td>0</td>\n",
       "      <td>0</td>\n",
       "      <td>0</td>\n",
       "      <td>0</td>\n",
       "      <td>0</td>\n",
       "      <td>0</td>\n",
       "      <td>0</td>\n",
       "      <td>1</td>\n",
       "      <td>0</td>\n",
       "      <td>0</td>\n",
       "    </tr>\n",
       "    <tr>\n",
       "      <td>2</td>\n",
       "      <td>361899</td>\n",
       "      <td>256165.867</td>\n",
       "      <td>-1.106</td>\n",
       "      <td>-2.116</td>\n",
       "      <td>6.043</td>\n",
       "      <td>3.108</td>\n",
       "      <td>3.898</td>\n",
       "      <td>1.100</td>\n",
       "      <td>1.243</td>\n",
       "      <td>0.327</td>\n",
       "      <td>...</td>\n",
       "      <td>0</td>\n",
       "      <td>0</td>\n",
       "      <td>0</td>\n",
       "      <td>0</td>\n",
       "      <td>0</td>\n",
       "      <td>0</td>\n",
       "      <td>1</td>\n",
       "      <td>0</td>\n",
       "      <td>0</td>\n",
       "      <td>0</td>\n",
       "    </tr>\n",
       "    <tr>\n",
       "      <td>3</td>\n",
       "      <td>308314</td>\n",
       "      <td>196622.721</td>\n",
       "      <td>-0.780</td>\n",
       "      <td>-2.032</td>\n",
       "      <td>11.077</td>\n",
       "      <td>1.470</td>\n",
       "      <td>0.767</td>\n",
       "      <td>1.309</td>\n",
       "      <td>1.952</td>\n",
       "      <td>5.250</td>\n",
       "      <td>...</td>\n",
       "      <td>0</td>\n",
       "      <td>0</td>\n",
       "      <td>0</td>\n",
       "      <td>0</td>\n",
       "      <td>1</td>\n",
       "      <td>0</td>\n",
       "      <td>0</td>\n",
       "      <td>0</td>\n",
       "      <td>0</td>\n",
       "      <td>0</td>\n",
       "    </tr>\n",
       "    <tr>\n",
       "      <td>4</td>\n",
       "      <td>307201</td>\n",
       "      <td>159841.652</td>\n",
       "      <td>-1.106</td>\n",
       "      <td>-2.116</td>\n",
       "      <td>1.258</td>\n",
       "      <td>3.290</td>\n",
       "      <td>-0.265</td>\n",
       "      <td>0.472</td>\n",
       "      <td>0.758</td>\n",
       "      <td>-2.544</td>\n",
       "      <td>...</td>\n",
       "      <td>0</td>\n",
       "      <td>0</td>\n",
       "      <td>0</td>\n",
       "      <td>0</td>\n",
       "      <td>0</td>\n",
       "      <td>0</td>\n",
       "      <td>0</td>\n",
       "      <td>1</td>\n",
       "      <td>0</td>\n",
       "      <td>0</td>\n",
       "    </tr>\n",
       "  </tbody>\n",
       "</table>\n",
       "<p>5 rows × 58 columns</p>\n",
       "</div>"
      ],
      "text/plain": [
       "   video_id  cvt_per_day  weighted_categorical_position  \\\n",
       "0    385504   307127.606                         -1.106   \n",
       "1    300175   270338.426                         -1.106   \n",
       "2    361899   256165.867                         -1.106   \n",
       "3    308314   196622.721                         -0.780   \n",
       "4    307201   159841.652                         -1.106   \n",
       "\n",
       "   weighted_horizontal_poition  imdb_votes  budget  boxoffice  imdb_rating  \\\n",
       "0                       -2.116       1.984   1.470      4.696        0.542   \n",
       "1                       -2.116       1.258   1.470     -1.022        0.542   \n",
       "2                       -2.116       6.043   3.108      3.898        1.100   \n",
       "3                       -2.032      11.077   1.470      0.767        1.309   \n",
       "4                       -2.116       1.258   3.290     -0.265        0.472   \n",
       "\n",
       "   duration_in_mins  metacritic_score  ...  1916-1974  1974-1991  1991-2001  \\\n",
       "0             1.079            -0.630  ...          0          0          0   \n",
       "1             0.257            -1.997  ...          0          0          0   \n",
       "2             1.243             0.327  ...          0          0          0   \n",
       "3             1.952             5.250  ...          0          0          0   \n",
       "4             0.758            -2.544  ...          0          0          0   \n",
       "\n",
       "   2001-2006  2006-2008  2008-2010  2010-2012  2012-2013  2013-2014  2014-2017  \n",
       "0          0          0          0          0          1          0          0  \n",
       "1          0          0          0          0          1          0          0  \n",
       "2          0          0          0          1          0          0          0  \n",
       "3          0          1          0          0          0          0          0  \n",
       "4          0          0          0          0          1          0          0  \n",
       "\n",
       "[5 rows x 58 columns]"
      ]
     },
     "execution_count": 92,
     "metadata": {},
     "output_type": "execute_result"
    }
   ],
   "source": [
    "#Standard scaling\n",
    "scale_lst = ['weighted_categorical_position', 'weighted_horizontal_poition', 'budget','boxoffice', \n",
    "             'imdb_votes','imdb_rating','duration_in_mins', 'metacritic_score','star_category']\n",
    "df4 = df3.copy()\n",
    "\n",
    "sc_scale = preprocessing.StandardScaler().fit(df4[scale_lst])\n",
    "df4[scale_lst] = sc_scale.transform(df4[scale_lst])\n",
    "\n",
    "df4.head()"
   ]
  },
  {
   "cell_type": "code",
   "execution_count": 93,
   "metadata": {},
   "outputs": [],
   "source": [
    "# MinMax scaling\n",
    "#newTV_mm = newTV_i1.copy()\n",
    "#mm_scale = preprocessing.MinMaxScaler().fit(newTV_mm[scale_lst])\n",
    "#newTV_mm[scale_lst] = mm_scale.transform(newTV_mm[scale_lst])"
   ]
  },
  {
   "cell_type": "code",
   "execution_count": 94,
   "metadata": {},
   "outputs": [],
   "source": [
    "# Robust scaling\n",
    "#newTV_rs = newTV_i1.copy()\n",
    "#rs_scale = preprocessing.RobustScaler().fit(newTV_mm[scale_lst])\n",
    "#newTV_rs[scale_lst] = rs_scale.transform(newTV_rs[scale_lst])"
   ]
  },
  {
   "cell_type": "markdown",
   "metadata": {},
   "source": [
    "# 3. Model Training\n",
    "\n",
    "85% of the samples will be used to train all the models, and 15% is reserved for test the models in next section."
   ]
  },
  {
   "cell_type": "code",
   "execution_count": 106,
   "metadata": {},
   "outputs": [],
   "source": [
    "# The 20% test data will kept aside, they won't be seen by the models until final test/comparison.\n",
    "from sklearn.model_selection import train_test_split\n",
    "model_train, model_test = train_test_split(df4, test_size=0.15, random_state = 3)\n",
    "model_train_x = model_train.drop(['video_id', 'cvt_per_day'], axis = 1)\n",
    "model_test_x = model_test.drop(['video_id', 'cvt_per_day'], axis = 1)\n",
    "model_train_y = model_train['cvt_per_day']\n",
    "model_test_y = model_test['cvt_per_day']"
   ]
  },
  {
   "cell_type": "markdown",
   "metadata": {},
   "source": [
    "### Lasso linear regression model"
   ]
  },
  {
   "cell_type": "code",
   "execution_count": 107,
   "metadata": {
    "scrolled": true
   },
   "outputs": [
    {
     "data": {
      "image/png": "[encoded data removed]",
      "text/plain": [
       "<Figure size 432x288 with 1 Axes>"
      ]
     },
     "metadata": {
      "needs_background": "light"
     },
     "output_type": "display_data"
    },
    {
     "name": "stdout",
     "output_type": "stream",
     "text": [
      "The optimaized alpha and score of Lasso linear is:  122.06107238906554 0.36457853302954235\n"
     ]
    }
   ],
   "source": [
    "# Lasso linear regression model\n",
    "from sklearn.model_selection import train_test_split\n",
    "from sklearn.linear_model import LinearRegression, Lasso, Ridge\n",
    "from sklearn.metrics import mean_squared_error, r2_score\n",
    "from sklearn import linear_model\n",
    "from math import sqrt\n",
    "\n",
    "lr_train, lr_validate = train_test_split(model_train, test_size=0.15, random_state = 0)\n",
    "\n",
    "lr_train_x = lr_train.drop(['video_id', 'cvt_per_day'], axis = 1)\n",
    "lr_validate_x = lr_validate.drop(['video_id', 'cvt_per_day'], axis = 1)\n",
    "lr_train_y = lr_train['cvt_per_day']\n",
    "lr_validate_y = lr_validate['cvt_per_day']\n",
    "\n",
    "alphas = np.logspace (-0.3, 2.5, num=150)\n",
    "# alphas= [0.000000001]\n",
    "scores = np.empty_like(alphas)\n",
    "opt_a = float('-inf')\n",
    "max_score = float('-inf')\n",
    "for i, a in enumerate(alphas):\n",
    "    lasso = linear_model.Lasso()\n",
    "    lasso.set_params(alpha = a)\n",
    "    lasso.fit(lr_train_x, lr_train_y)\n",
    "    scores[i] = lasso.score(lr_validate_x, lr_validate_y)\n",
    "    if scores[i] > max_score:\n",
    "        max_score = scores[i]\n",
    "        opt_a = a\n",
    "        lasso_save = lasso\n",
    "plt.plot(alphas, scores, color='b', linestyle='dashed', marker='o',markerfacecolor='blue', markersize=6)\n",
    "plt.xlabel('alpha')\n",
    "plt.ylabel('score')\n",
    "plt.grid(True)\n",
    "plt.title('score vs. alpha')\n",
    "plt.show()\n",
    "print ('The optimaized alpha and score of Lasso linear is: ', opt_a, max_score)"
   ]
  },
  {
   "cell_type": "code",
   "execution_count": 108,
   "metadata": {},
   "outputs": [
    {
     "data": {
      "text/plain": [
       "Lasso(alpha=122.06107238906554, copy_X=True, fit_intercept=True, max_iter=1000,\n",
       "      normalize=False, positive=False, precompute=False, random_state=None,\n",
       "      selection='cyclic', tol=0.0001, warm_start=False)"
      ]
     },
     "execution_count": 108,
     "metadata": {},
     "output_type": "execute_result"
    }
   ],
   "source": [
    "# combine the validate data and training data, use the optimal alpha, re-train the model\n",
    "lasso_f = linear_model.Lasso()\n",
    "lasso_f.set_params(alpha = opt_a)\n",
    "lasso_f.fit(model_train_x, model_train_y)\n",
    "\n",
    "# lasso_f is the Lasso model (linear feature), to be tested with final test data."
   ]
  },
  {
   "cell_type": "markdown",
   "metadata": {},
   "source": [
    "### Lasso with Polynomial Features"
   ]
  },
  {
   "cell_type": "code",
   "execution_count": 109,
   "metadata": {},
   "outputs": [
    {
     "name": "stderr",
     "output_type": "stream",
     "text": [
      "/Users/yukunshen/opt/anaconda3/lib/python3.7/site-packages/sklearn/linear_model/coordinate_descent.py:475: ConvergenceWarning: Objective did not converge. You might want to increase the number of iterations. Duality gap: 33119365493.446354, tolerance: 48022560.445868395\n",
      "  positive)\n",
      "/Users/yukunshen/opt/anaconda3/lib/python3.7/site-packages/sklearn/linear_model/coordinate_descent.py:475: ConvergenceWarning: Objective did not converge. You might want to increase the number of iterations. Duality gap: 33125575317.33473, tolerance: 48022560.445868395\n",
      "  positive)\n",
      "/Users/yukunshen/opt/anaconda3/lib/python3.7/site-packages/sklearn/linear_model/coordinate_descent.py:475: ConvergenceWarning: Objective did not converge. You might want to increase the number of iterations. Duality gap: 33132740291.53264, tolerance: 48022560.445868395\n",
      "  positive)\n",
      "/Users/yukunshen/opt/anaconda3/lib/python3.7/site-packages/sklearn/linear_model/coordinate_descent.py:475: ConvergenceWarning: Objective did not converge. You might want to increase the number of iterations. Duality gap: 33141002336.577152, tolerance: 48022560.445868395\n",
      "  positive)\n",
      "/Users/yukunshen/opt/anaconda3/lib/python3.7/site-packages/sklearn/linear_model/coordinate_descent.py:475: ConvergenceWarning: Objective did not converge. You might want to increase the number of iterations. Duality gap: 33150525522.227573, tolerance: 48022560.445868395\n",
      "  positive)\n",
      "/Users/yukunshen/opt/anaconda3/lib/python3.7/site-packages/sklearn/linear_model/coordinate_descent.py:475: ConvergenceWarning: Objective did not converge. You might want to increase the number of iterations. Duality gap: 33161491556.69391, tolerance: 48022560.445868395\n",
      "  positive)\n",
      "/Users/yukunshen/opt/anaconda3/lib/python3.7/site-packages/sklearn/linear_model/coordinate_descent.py:475: ConvergenceWarning: Objective did not converge. You might want to increase the number of iterations. Duality gap: 33174161481.087044, tolerance: 48022560.445868395\n",
      "  positive)\n",
      "/Users/yukunshen/opt/anaconda3/lib/python3.7/site-packages/sklearn/linear_model/coordinate_descent.py:475: ConvergenceWarning: Objective did not converge. You might want to increase the number of iterations. Duality gap: 33188742833.501568, tolerance: 48022560.445868395\n",
      "  positive)\n",
      "/Users/yukunshen/opt/anaconda3/lib/python3.7/site-packages/sklearn/linear_model/coordinate_descent.py:475: ConvergenceWarning: Objective did not converge. You might want to increase the number of iterations. Duality gap: 33205514172.388535, tolerance: 48022560.445868395\n",
      "  positive)\n",
      "/Users/yukunshen/opt/anaconda3/lib/python3.7/site-packages/sklearn/linear_model/coordinate_descent.py:475: ConvergenceWarning: Objective did not converge. You might want to increase the number of iterations. Duality gap: 33224780439.92264, tolerance: 48022560.445868395\n",
      "  positive)\n",
      "/Users/yukunshen/opt/anaconda3/lib/python3.7/site-packages/sklearn/linear_model/coordinate_descent.py:475: ConvergenceWarning: Objective did not converge. You might want to increase the number of iterations. Duality gap: 33246895380.45742, tolerance: 48022560.445868395\n",
      "  positive)\n",
      "/Users/yukunshen/opt/anaconda3/lib/python3.7/site-packages/sklearn/linear_model/coordinate_descent.py:475: ConvergenceWarning: Objective did not converge. You might want to increase the number of iterations. Duality gap: 33272314168.853607, tolerance: 48022560.445868395\n",
      "  positive)\n",
      "/Users/yukunshen/opt/anaconda3/lib/python3.7/site-packages/sklearn/linear_model/coordinate_descent.py:475: ConvergenceWarning: Objective did not converge. You might want to increase the number of iterations. Duality gap: 33301551426.95852, tolerance: 48022560.445868395\n",
      "  positive)\n",
      "/Users/yukunshen/opt/anaconda3/lib/python3.7/site-packages/sklearn/linear_model/coordinate_descent.py:475: ConvergenceWarning: Objective did not converge. You might want to increase the number of iterations. Duality gap: 33335045494.322006, tolerance: 48022560.445868395\n",
      "  positive)\n",
      "/Users/yukunshen/opt/anaconda3/lib/python3.7/site-packages/sklearn/linear_model/coordinate_descent.py:475: ConvergenceWarning: Objective did not converge. You might want to increase the number of iterations. Duality gap: 33373311193.922714, tolerance: 48022560.445868395\n",
      "  positive)\n",
      "/Users/yukunshen/opt/anaconda3/lib/python3.7/site-packages/sklearn/linear_model/coordinate_descent.py:475: ConvergenceWarning: Objective did not converge. You might want to increase the number of iterations. Duality gap: 33417264367.729248, tolerance: 48022560.445868395\n",
      "  positive)\n",
      "/Users/yukunshen/opt/anaconda3/lib/python3.7/site-packages/sklearn/linear_model/coordinate_descent.py:475: ConvergenceWarning: Objective did not converge. You might want to increase the number of iterations. Duality gap: 33467722626.5823, tolerance: 48022560.445868395\n",
      "  positive)\n",
      "/Users/yukunshen/opt/anaconda3/lib/python3.7/site-packages/sklearn/linear_model/coordinate_descent.py:475: ConvergenceWarning: Objective did not converge. You might want to increase the number of iterations. Duality gap: 33525497070.43916, tolerance: 48022560.445868395\n",
      "  positive)\n",
      "/Users/yukunshen/opt/anaconda3/lib/python3.7/site-packages/sklearn/linear_model/coordinate_descent.py:475: ConvergenceWarning: Objective did not converge. You might want to increase the number of iterations. Duality gap: 33591375199.75594, tolerance: 48022560.445868395\n",
      "  positive)\n",
      "/Users/yukunshen/opt/anaconda3/lib/python3.7/site-packages/sklearn/linear_model/coordinate_descent.py:475: ConvergenceWarning: Objective did not converge. You might want to increase the number of iterations. Duality gap: 33666611817.022015, tolerance: 48022560.445868395\n",
      "  positive)\n",
      "/Users/yukunshen/opt/anaconda3/lib/python3.7/site-packages/sklearn/linear_model/coordinate_descent.py:475: ConvergenceWarning: Objective did not converge. You might want to increase the number of iterations. Duality gap: 33752534907.200188, tolerance: 48022560.445868395\n",
      "  positive)\n",
      "/Users/yukunshen/opt/anaconda3/lib/python3.7/site-packages/sklearn/linear_model/coordinate_descent.py:475: ConvergenceWarning: Objective did not converge. You might want to increase the number of iterations. Duality gap: 33849736851.676327, tolerance: 48022560.445868395\n",
      "  positive)\n",
      "/Users/yukunshen/opt/anaconda3/lib/python3.7/site-packages/sklearn/linear_model/coordinate_descent.py:475: ConvergenceWarning: Objective did not converge. You might want to increase the number of iterations. Duality gap: 33960692716.547928, tolerance: 48022560.445868395\n",
      "  positive)\n",
      "/Users/yukunshen/opt/anaconda3/lib/python3.7/site-packages/sklearn/linear_model/coordinate_descent.py:475: ConvergenceWarning: Objective did not converge. You might want to increase the number of iterations. Duality gap: 34085703531.053913, tolerance: 48022560.445868395\n",
      "  positive)\n",
      "/Users/yukunshen/opt/anaconda3/lib/python3.7/site-packages/sklearn/linear_model/coordinate_descent.py:475: ConvergenceWarning: Objective did not converge. You might want to increase the number of iterations. Duality gap: 34229349336.19245, tolerance: 48022560.445868395\n",
      "  positive)\n",
      "/Users/yukunshen/opt/anaconda3/lib/python3.7/site-packages/sklearn/linear_model/coordinate_descent.py:475: ConvergenceWarning: Objective did not converge. You might want to increase the number of iterations. Duality gap: 34392141799.1555, tolerance: 48022560.445868395\n",
      "  positive)\n",
      "/Users/yukunshen/opt/anaconda3/lib/python3.7/site-packages/sklearn/linear_model/coordinate_descent.py:475: ConvergenceWarning: Objective did not converge. You might want to increase the number of iterations. Duality gap: 34575736653.403824, tolerance: 48022560.445868395\n",
      "  positive)\n",
      "/Users/yukunshen/opt/anaconda3/lib/python3.7/site-packages/sklearn/linear_model/coordinate_descent.py:475: ConvergenceWarning: Objective did not converge. You might want to increase the number of iterations. Duality gap: 34782964308.02165, tolerance: 48022560.445868395\n",
      "  positive)\n",
      "/Users/yukunshen/opt/anaconda3/lib/python3.7/site-packages/sklearn/linear_model/coordinate_descent.py:475: ConvergenceWarning: Objective did not converge. You might want to increase the number of iterations. Duality gap: 35016323206.5299, tolerance: 48022560.445868395\n",
      "  positive)\n",
      "/Users/yukunshen/opt/anaconda3/lib/python3.7/site-packages/sklearn/linear_model/coordinate_descent.py:475: ConvergenceWarning: Objective did not converge. You might want to increase the number of iterations. Duality gap: 35268872960.64325, tolerance: 48022560.445868395\n",
      "  positive)\n"
     ]
    },
    {
     "name": "stderr",
     "output_type": "stream",
     "text": [
      "/Users/yukunshen/opt/anaconda3/lib/python3.7/site-packages/sklearn/linear_model/coordinate_descent.py:475: ConvergenceWarning: Objective did not converge. You might want to increase the number of iterations. Duality gap: 35559652119.729965, tolerance: 48022560.445868395\n",
      "  positive)\n",
      "/Users/yukunshen/opt/anaconda3/lib/python3.7/site-packages/sklearn/linear_model/coordinate_descent.py:475: ConvergenceWarning: Objective did not converge. You might want to increase the number of iterations. Duality gap: 35879533493.85945, tolerance: 48022560.445868395\n",
      "  positive)\n",
      "/Users/yukunshen/opt/anaconda3/lib/python3.7/site-packages/sklearn/linear_model/coordinate_descent.py:475: ConvergenceWarning: Objective did not converge. You might want to increase the number of iterations. Duality gap: 36230317970.722565, tolerance: 48022560.445868395\n",
      "  positive)\n",
      "/Users/yukunshen/opt/anaconda3/lib/python3.7/site-packages/sklearn/linear_model/coordinate_descent.py:475: ConvergenceWarning: Objective did not converge. You might want to increase the number of iterations. Duality gap: 36626328235.87754, tolerance: 48022560.445868395\n",
      "  positive)\n",
      "/Users/yukunshen/opt/anaconda3/lib/python3.7/site-packages/sklearn/linear_model/coordinate_descent.py:475: ConvergenceWarning: Objective did not converge. You might want to increase the number of iterations. Duality gap: 37044730538.42961, tolerance: 48022560.445868395\n",
      "  positive)\n",
      "/Users/yukunshen/opt/anaconda3/lib/python3.7/site-packages/sklearn/linear_model/coordinate_descent.py:475: ConvergenceWarning: Objective did not converge. You might want to increase the number of iterations. Duality gap: 37491821610.50168, tolerance: 48022560.445868395\n",
      "  positive)\n",
      "/Users/yukunshen/opt/anaconda3/lib/python3.7/site-packages/sklearn/linear_model/coordinate_descent.py:475: ConvergenceWarning: Objective did not converge. You might want to increase the number of iterations. Duality gap: 37975493201.11985, tolerance: 48022560.445868395\n",
      "  positive)\n",
      "/Users/yukunshen/opt/anaconda3/lib/python3.7/site-packages/sklearn/linear_model/coordinate_descent.py:475: ConvergenceWarning: Objective did not converge. You might want to increase the number of iterations. Duality gap: 38451232140.07082, tolerance: 48022560.445868395\n",
      "  positive)\n",
      "/Users/yukunshen/opt/anaconda3/lib/python3.7/site-packages/sklearn/linear_model/coordinate_descent.py:475: ConvergenceWarning: Objective did not converge. You might want to increase the number of iterations. Duality gap: 38917054470.12142, tolerance: 48022560.445868395\n",
      "  positive)\n",
      "/Users/yukunshen/opt/anaconda3/lib/python3.7/site-packages/sklearn/linear_model/coordinate_descent.py:475: ConvergenceWarning: Objective did not converge. You might want to increase the number of iterations. Duality gap: 39193151761.320076, tolerance: 48022560.445868395\n",
      "  positive)\n",
      "/Users/yukunshen/opt/anaconda3/lib/python3.7/site-packages/sklearn/linear_model/coordinate_descent.py:475: ConvergenceWarning: Objective did not converge. You might want to increase the number of iterations. Duality gap: 39426315810.06217, tolerance: 48022560.445868395\n",
      "  positive)\n",
      "/Users/yukunshen/opt/anaconda3/lib/python3.7/site-packages/sklearn/linear_model/coordinate_descent.py:475: ConvergenceWarning: Objective did not converge. You might want to increase the number of iterations. Duality gap: 39894560018.92957, tolerance: 48022560.445868395\n",
      "  positive)\n",
      "/Users/yukunshen/opt/anaconda3/lib/python3.7/site-packages/sklearn/linear_model/coordinate_descent.py:475: ConvergenceWarning: Objective did not converge. You might want to increase the number of iterations. Duality gap: 41309041530.36255, tolerance: 48022560.445868395\n",
      "  positive)\n",
      "/Users/yukunshen/opt/anaconda3/lib/python3.7/site-packages/sklearn/linear_model/coordinate_descent.py:475: ConvergenceWarning: Objective did not converge. You might want to increase the number of iterations. Duality gap: 41825556897.505104, tolerance: 48022560.445868395\n",
      "  positive)\n",
      "/Users/yukunshen/opt/anaconda3/lib/python3.7/site-packages/sklearn/linear_model/coordinate_descent.py:475: ConvergenceWarning: Objective did not converge. You might want to increase the number of iterations. Duality gap: 42423222066.35032, tolerance: 48022560.445868395\n",
      "  positive)\n",
      "/Users/yukunshen/opt/anaconda3/lib/python3.7/site-packages/sklearn/linear_model/coordinate_descent.py:475: ConvergenceWarning: Objective did not converge. You might want to increase the number of iterations. Duality gap: 42572145851.87033, tolerance: 48022560.445868395\n",
      "  positive)\n",
      "/Users/yukunshen/opt/anaconda3/lib/python3.7/site-packages/sklearn/linear_model/coordinate_descent.py:475: ConvergenceWarning: Objective did not converge. You might want to increase the number of iterations. Duality gap: 43326219762.860535, tolerance: 48022560.445868395\n",
      "  positive)\n",
      "/Users/yukunshen/opt/anaconda3/lib/python3.7/site-packages/sklearn/linear_model/coordinate_descent.py:475: ConvergenceWarning: Objective did not converge. You might want to increase the number of iterations. Duality gap: 45684852628.93096, tolerance: 48022560.445868395\n",
      "  positive)\n",
      "/Users/yukunshen/opt/anaconda3/lib/python3.7/site-packages/sklearn/linear_model/coordinate_descent.py:475: ConvergenceWarning: Objective did not converge. You might want to increase the number of iterations. Duality gap: 45768365351.346725, tolerance: 48022560.445868395\n",
      "  positive)\n",
      "/Users/yukunshen/opt/anaconda3/lib/python3.7/site-packages/sklearn/linear_model/coordinate_descent.py:475: ConvergenceWarning: Objective did not converge. You might want to increase the number of iterations. Duality gap: 47775067601.69542, tolerance: 48022560.445868395\n",
      "  positive)\n",
      "/Users/yukunshen/opt/anaconda3/lib/python3.7/site-packages/sklearn/linear_model/coordinate_descent.py:475: ConvergenceWarning: Objective did not converge. You might want to increase the number of iterations. Duality gap: 50015596663.05557, tolerance: 48022560.445868395\n",
      "  positive)\n",
      "/Users/yukunshen/opt/anaconda3/lib/python3.7/site-packages/sklearn/linear_model/coordinate_descent.py:475: ConvergenceWarning: Objective did not converge. You might want to increase the number of iterations. Duality gap: 49013664129.15103, tolerance: 48022560.445868395\n",
      "  positive)\n",
      "/Users/yukunshen/opt/anaconda3/lib/python3.7/site-packages/sklearn/linear_model/coordinate_descent.py:475: ConvergenceWarning: Objective did not converge. You might want to increase the number of iterations. Duality gap: 46769772076.869026, tolerance: 48022560.445868395\n",
      "  positive)\n",
      "/Users/yukunshen/opt/anaconda3/lib/python3.7/site-packages/sklearn/linear_model/coordinate_descent.py:475: ConvergenceWarning: Objective did not converge. You might want to increase the number of iterations. Duality gap: 38857072715.91394, tolerance: 48022560.445868395\n",
      "  positive)\n",
      "/Users/yukunshen/opt/anaconda3/lib/python3.7/site-packages/sklearn/linear_model/coordinate_descent.py:475: ConvergenceWarning: Objective did not converge. You might want to increase the number of iterations. Duality gap: 26119811178.952343, tolerance: 48022560.445868395\n",
      "  positive)\n",
      "/Users/yukunshen/opt/anaconda3/lib/python3.7/site-packages/sklearn/linear_model/coordinate_descent.py:475: ConvergenceWarning: Objective did not converge. You might want to increase the number of iterations. Duality gap: 17002978460.023376, tolerance: 48022560.445868395\n",
      "  positive)\n",
      "/Users/yukunshen/opt/anaconda3/lib/python3.7/site-packages/sklearn/linear_model/coordinate_descent.py:475: ConvergenceWarning: Objective did not converge. You might want to increase the number of iterations. Duality gap: 8582517515.992874, tolerance: 48022560.445868395\n",
      "  positive)\n",
      "/Users/yukunshen/opt/anaconda3/lib/python3.7/site-packages/sklearn/linear_model/coordinate_descent.py:475: ConvergenceWarning: Objective did not converge. You might want to increase the number of iterations. Duality gap: 1140909324.2434998, tolerance: 48022560.445868395\n",
      "  positive)\n",
      "/Users/yukunshen/opt/anaconda3/lib/python3.7/site-packages/sklearn/linear_model/coordinate_descent.py:475: ConvergenceWarning: Objective did not converge. You might want to increase the number of iterations. Duality gap: 1617624606.848236, tolerance: 48022560.445868395\n",
      "  positive)\n",
      "/Users/yukunshen/opt/anaconda3/lib/python3.7/site-packages/sklearn/linear_model/coordinate_descent.py:475: ConvergenceWarning: Objective did not converge. You might want to increase the number of iterations. Duality gap: 714541193.5321655, tolerance: 48022560.445868395\n",
      "  positive)\n"
     ]
    },
    {
     "name": "stderr",
     "output_type": "stream",
     "text": [
      "/Users/yukunshen/opt/anaconda3/lib/python3.7/site-packages/sklearn/linear_model/coordinate_descent.py:475: ConvergenceWarning: Objective did not converge. You might want to increase the number of iterations. Duality gap: 450787708.355011, tolerance: 48022560.445868395\n",
      "  positive)\n",
      "/Users/yukunshen/opt/anaconda3/lib/python3.7/site-packages/sklearn/linear_model/coordinate_descent.py:475: ConvergenceWarning: Objective did not converge. You might want to increase the number of iterations. Duality gap: 318221788.9166107, tolerance: 48022560.445868395\n",
      "  positive)\n",
      "/Users/yukunshen/opt/anaconda3/lib/python3.7/site-packages/sklearn/linear_model/coordinate_descent.py:475: ConvergenceWarning: Objective did not converge. You might want to increase the number of iterations. Duality gap: 203088974.72824097, tolerance: 48022560.445868395\n",
      "  positive)\n"
     ]
    },
    {
     "data": {
      "image/png": "[encoded data removed]",
      "text/plain": [
       "<Figure size 432x288 with 1 Axes>"
      ]
     },
     "metadata": {
      "needs_background": "light"
     },
     "output_type": "display_data"
    },
    {
     "name": "stdout",
     "output_type": "stream",
     "text": [
      "The optimaized alpha and score of Lasso polynomial is:  150.38869469554086 0.5764936326091707\n"
     ]
    },
    {
     "data": {
      "text/plain": [
       "Lasso(alpha=150.38869469554086, copy_X=True, fit_intercept=True, max_iter=1000,\n",
       "      normalize=False, positive=False, precompute=False, random_state=None,\n",
       "      selection='cyclic', tol=0.0001, warm_start=False)"
      ]
     },
     "execution_count": 109,
     "metadata": {},
     "output_type": "execute_result"
    }
   ],
   "source": [
    "# Polynomial features added\n",
    "from sklearn.preprocessing import PolynomialFeatures\n",
    "\n",
    "poly = PolynomialFeatures(2)\n",
    "\n",
    "lr_train, lr_validate = train_test_split(model_train, test_size=0.15, random_state = 0)\n",
    "\n",
    "lr_train_x = lr_train.drop(['video_id', 'cvt_per_day'], axis = 1)\n",
    "lr_validate_x = lr_validate.drop(['video_id', 'cvt_per_day'], axis = 1)\n",
    "\n",
    "lr_train_xp = poly.fit_transform(lr_train_x)\n",
    "lr_validate_xp = poly.fit_transform(lr_validate_x)\n",
    "lr_train_y = lr_train['cvt_per_day']\n",
    "lr_validate_y = lr_validate['cvt_per_day']\n",
    "\n",
    "# lr_train_xp = pd.DataFrame(data=lr_train_xp, index=data[:], columns=data[0,1:]) \n",
    "\n",
    "alphas = np.logspace (-2.6, 2.5, num=80)\n",
    "# alphas= [1]\n",
    "scores = np.empty_like(alphas)\n",
    "opt_a = float('-inf')\n",
    "max_score = float('-inf')\n",
    "for i, a in enumerate(alphas):\n",
    "    lasso = linear_model.Lasso()\n",
    "    lasso.set_params(alpha = a)\n",
    "    lasso.fit(lr_train_xp, lr_train_y)\n",
    "    scores[i] = lasso.score(lr_validate_xp, lr_validate_y)\n",
    "    if scores[i] > max_score:\n",
    "        max_score = scores[i]\n",
    "        opt_a = a\n",
    "        lasso_save = lasso\n",
    "        \n",
    "plt.plot(alphas, scores, color='b', linestyle='dashed', marker='o',markerfacecolor='blue', markersize=6)\n",
    "plt.xlabel('alpha')\n",
    "plt.ylabel('score')\n",
    "plt.grid(True)\n",
    "plt.title('score vs. alpha')\n",
    "plt.show()\n",
    "print ('The optimaized alpha and score of Lasso polynomial is: ', opt_a, max_score)\n",
    "\n",
    "# combine the validate data and training data, use the optimal alpha, re-train the model\n",
    "lr_train_xp1 = poly.fit_transform(model_train_x)\n",
    "\n",
    "lasso_fp = linear_model.Lasso()\n",
    "lasso_fp.set_params(alpha = opt_a)\n",
    "lasso_fp.fit(lr_train_xp1, model_train_y)\n",
    "\n",
    "# lasso_fp is the Lasso model (polynomial feature), to be tested with test data."
   ]
  },
  {
   "cell_type": "code",
   "execution_count": 132,
   "metadata": {},
   "outputs": [
    {
     "name": "stderr",
     "output_type": "stream",
     "text": [
      "/Users/yukunshen/opt/anaconda3/lib/python3.7/site-packages/sklearn/linear_model/coordinate_descent.py:475: ConvergenceWarning: Objective did not converge. You might want to increase the number of iterations. Duality gap: 278336589.64360046, tolerance: 54965082.96651763\n",
      "  positive)\n"
     ]
    },
    {
     "data": {
      "text/plain": [
       "Lasso(alpha=14.38449888287663, copy_X=True, fit_intercept=True, max_iter=1000,\n",
       "      normalize=False, positive=False, precompute=False, random_state=None,\n",
       "      selection='cyclic', tol=0.0001, warm_start=False)"
      ]
     },
     "execution_count": 132,
     "metadata": {},
     "output_type": "execute_result"
    }
   ],
   "source": [
    "# combine the validate data and training data, use the optimal alpha, re-train the model\n",
    "lr_train_xp1 = poly.fit_transform(model_train_x)\n",
    "\n",
    "lasso_fp = linear_model.Lasso()\n",
    "lasso_fp.set_params(alpha = opt_a)\n",
    "lasso_fp.fit(lr_train_xp1, model_train_y)\n",
    "\n",
    "# lasso_fp is the Lasso model (polynomial feature), to be tested with test data."
   ]
  },
  {
   "cell_type": "markdown",
   "metadata": {},
   "source": [
    "### Ridge Linear Regression"
   ]
  },
  {
   "cell_type": "code",
   "execution_count": 110,
   "metadata": {},
   "outputs": [
    {
     "data": {
      "image/png": "[encoded data removed]",
      "text/plain": [
       "<Figure size 432x288 with 1 Axes>"
      ]
     },
     "metadata": {
      "needs_background": "light"
     },
     "output_type": "display_data"
    },
    {
     "name": "stdout",
     "output_type": "stream",
     "text": [
      "0.352903251542544 163.97026580002054\n"
     ]
    }
   ],
   "source": [
    "# Use the same training data set as Lasso (linear features)\n",
    "lr_train, lr_validate = train_test_split(model_train, test_size=0.15, random_state = 0)\n",
    "\n",
    "alphas = np.logspace (-10, 3, num=150)\n",
    "# alphas= [0.000000001]\n",
    "scores = np.empty_like(alphas)\n",
    "opt_a = float('-inf')\n",
    "max_score = float('-inf')\n",
    "for i, a in enumerate(alphas):\n",
    "    ridge = linear_model.Ridge()\n",
    "    ridge.set_params(alpha = a)\n",
    "    ridge.fit(lr_train_x, lr_train_y)\n",
    "    scores[i] = ridge.score(lr_validate_x, lr_validate_y)\n",
    "    if scores[i] > max_score:\n",
    "        max_score = scores[i]\n",
    "        opt_a = a\n",
    "        ridge_save = ridge\n",
    "plt.plot(alphas, scores, color='r', linestyle='dashed', marker='o',markerfacecolor='r', markersize=6)\n",
    "plt.xlabel('alpha')\n",
    "plt.ylabel('score')\n",
    "plt.grid(True)\n",
    "plt.title('score vs. alpha')\n",
    "plt.show()\n",
    "print (max_score, opt_a)"
   ]
  },
  {
   "cell_type": "code",
   "execution_count": 111,
   "metadata": {},
   "outputs": [
    {
     "data": {
      "text/plain": [
       "Ridge(alpha=163.97026580002054, copy_X=True, fit_intercept=True, max_iter=None,\n",
       "      normalize=False, random_state=None, solver='auto', tol=0.001)"
      ]
     },
     "execution_count": 111,
     "metadata": {},
     "output_type": "execute_result"
    }
   ],
   "source": [
    "# ridge_f is the Ridge model (linear feature), to be tested with test data.\n",
    "ridge_f = linear_model.Ridge()\n",
    "ridge_f.set_params(alpha = opt_a)\n",
    "ridge_f.fit(model_train_x, model_train_y)"
   ]
  },
  {
   "cell_type": "markdown",
   "metadata": {},
   "source": [
    "### Ridge with Polynomial Features"
   ]
  },
  {
   "cell_type": "code",
   "execution_count": 113,
   "metadata": {},
   "outputs": [
    {
     "data": {
      "image/png": "[encoded data removed]",
      "text/plain": [
       "<Figure size 432x288 with 1 Axes>"
      ]
     },
     "metadata": {
      "needs_background": "light"
     },
     "output_type": "display_data"
    },
    {
     "name": "stdout",
     "output_type": "stream",
     "text": [
      "0.46798842420557984 14.38449888287663\n"
     ]
    }
   ],
   "source": [
    "# Use the same training data set as Lasso (polynomial features)\n",
    "from sklearn.preprocessing import PolynomialFeatures\n",
    "poly = PolynomialFeatures(2)\n",
    "\n",
    "lr_train, lr_validate = train_test_split(model_train, test_size=0.15, random_state = 0)\n",
    "\n",
    "lr_train_x = lr_train.drop(['video_id', 'cvt_per_day'], axis = 1)\n",
    "lr_validate_x = lr_validate.drop(['video_id', 'cvt_per_day'], axis = 1)\n",
    "lr_train_y = lr_train['cvt_per_day']\n",
    "lr_validate_y = lr_validate['cvt_per_day']\n",
    "\n",
    "lr_train_xp = poly.fit_transform(lr_train_x)\n",
    "lr_validate_xp = poly.fit_transform(lr_validate_x)\n",
    "\n",
    "alphas = np.logspace (-2, 2, num=20)\n",
    "# alphas= [1]\n",
    "scores = np.empty_like(alphas)\n",
    "opt_a = float('-inf')\n",
    "max_score = float('-inf')\n",
    "for i, a in enumerate(alphas):\n",
    "    ridge = linear_model.Ridge()\n",
    "    ridge.set_params(alpha = a)\n",
    "    ridge.fit(lr_train_xp, lr_train_y)\n",
    "    scores[i] = ridge.score(lr_validate_xp, lr_validate_y)\n",
    "    if scores[i] > max_score:\n",
    "        max_score = scores[i]\n",
    "        opt_a = a\n",
    "        ridge_save = ridge\n",
    "        \n",
    "plt.plot(alphas, scores, color='brown', linestyle='dashed', marker='o',markerfacecolor='g', markersize=6)\n",
    "plt.xlabel('alpha')\n",
    "plt.ylabel('score')\n",
    "plt.grid(True)\n",
    "plt.title('score vs. alpha')\n",
    "plt.show()\n",
    "print (max_score, opt_a)"
   ]
  },
  {
   "cell_type": "code",
   "execution_count": 114,
   "metadata": {},
   "outputs": [
    {
     "data": {
      "text/plain": [
       "Ridge(alpha=14.38449888287663, copy_X=True, fit_intercept=True, max_iter=None,\n",
       "      normalize=False, random_state=None, solver='auto', tol=0.001)"
      ]
     },
     "execution_count": 114,
     "metadata": {},
     "output_type": "execute_result"
    }
   ],
   "source": [
    "# add the 15% validate data, use the optimal alpha, re-train the model\n",
    "lr_train_xp1 = poly.fit_transform(model_train_x)\n",
    "\n",
    "ridge_fp = linear_model.Ridge()\n",
    "ridge_fp.set_params(alpha = opt_a)\n",
    "ridge_fp.fit(lr_train_xp1, model_train_y)\n",
    "\n",
    "# ridge_fp is the Ridge model (polynomial feature), to be tested with test data."
   ]
  },
  {
   "cell_type": "markdown",
   "metadata": {},
   "source": [
    "### Random Forest"
   ]
  },
  {
   "cell_type": "code",
   "execution_count": 123,
   "metadata": {},
   "outputs": [
    {
     "data": {
      "text/plain": [
       "GridSearchCV(cv=5, error_score='raise-deprecating',\n",
       "             estimator=RandomForestRegressor(bootstrap=True, criterion='mse',\n",
       "                                             max_depth=None,\n",
       "                                             max_features='sqrt',\n",
       "                                             max_leaf_nodes=None,\n",
       "                                             min_impurity_decrease=0.0,\n",
       "                                             min_impurity_split=None,\n",
       "                                             min_samples_leaf=1,\n",
       "                                             min_samples_split=2,\n",
       "                                             min_weight_fraction_leaf=0.0,\n",
       "                                             n_estimators='warn', n_jobs=None,\n",
       "                                             oob_score=False, random_state=2,\n",
       "                                             verbose=0, warm_start=False),\n",
       "             iid='warn', n_jobs=None,\n",
       "             param_grid={'max_depth': [12, 13, 14, 15, 16, 17],\n",
       "                         'n_estimators': [54, 55, 56, 57, 58, 59, 60, 62]},\n",
       "             pre_dispatch='2*n_jobs', refit=True, return_train_score=False,\n",
       "             scoring=None, verbose=0)"
      ]
     },
     "execution_count": 123,
     "metadata": {},
     "output_type": "execute_result"
    }
   ],
   "source": [
    "from sklearn.ensemble import RandomForestRegressor\n",
    "from sklearn.model_selection import cross_validate\n",
    "from sklearn.model_selection import GridSearchCV\n",
    "\n",
    "rf_train, rf_test = train_test_split(model_train, test_size=0.15, random_state = 0)\n",
    "\n",
    "rf_train_x = rf_train.drop(['video_id', 'cvt_per_day'], axis = 1)\n",
    "rf_test_x = rf_test.drop(['video_id', 'cvt_per_day'], axis = 1)\n",
    "rf_train_y = rf_train['cvt_per_day']\n",
    "rf_test_y = rf_test['cvt_per_day']\n",
    "\n",
    "param_grid = {\n",
    "                 'n_estimators': [54, 55, 56, 57, 58, 59, 60, 62],\n",
    "                 'max_depth': [12, 13, 14, 15, 16, 17]\n",
    "             }\n",
    "\n",
    "rf = RandomForestRegressor(random_state=2, max_features = 'sqrt')\n",
    "grid_rf = GridSearchCV(rf, param_grid, cv=5)\n",
    "grid_rf.fit(rf_train_x, rf_train_y)"
   ]
  },
  {
   "cell_type": "code",
   "execution_count": 124,
   "metadata": {},
   "outputs": [
    {
     "data": {
      "text/plain": [
       "{'max_depth': 14, 'n_estimators': 56}"
      ]
     },
     "execution_count": 124,
     "metadata": {},
     "output_type": "execute_result"
    }
   ],
   "source": [
    "grid_rf.best_params_ "
   ]
  },
  {
   "cell_type": "code",
   "execution_count": 125,
   "metadata": {},
   "outputs": [
    {
     "data": {
      "text/plain": [
       "{'mean_fit_time': array([0.13188434, 0.12833872, 0.13126702, 0.13055658, 0.13534603,\n",
       "        0.14342284, 0.15654068, 0.16533041, 0.13966584, 0.14890633,\n",
       "        0.1375762 , 0.14113979, 0.15350533, 0.1564436 , 0.15176253,\n",
       "        0.15222845, 0.14184318, 0.14245234, 0.14463334, 0.14779134,\n",
       "        0.15905805, 0.16720109, 0.16230297, 0.15967941, 0.14876943,\n",
       "        0.14950237, 0.15052624, 0.15475063, 0.15708752, 0.15856614,\n",
       "        0.16144552, 0.16632361, 0.14997959, 0.15293241, 0.15711851,\n",
       "        0.15946674, 0.16177287, 0.16506643, 0.16758976, 0.17313209,\n",
       "        0.15785093, 0.15886984, 0.16205373, 0.16465902, 0.17026882,\n",
       "        0.17511964, 0.17890439, 0.18346009]),\n",
       " 'std_fit_time': array([0.01481321, 0.00288148, 0.00222853, 0.00057531, 0.00486219,\n",
       "        0.00589217, 0.01631866, 0.00684523, 0.00647746, 0.01028627,\n",
       "        0.00119593, 0.00177096, 0.00964009, 0.01082738, 0.00728368,\n",
       "        0.00205797, 0.00478898, 0.00070207, 0.0008716 , 0.00161715,\n",
       "        0.00426458, 0.01052476, 0.0014525 , 0.0033125 , 0.0017041 ,\n",
       "        0.00288884, 0.00066123, 0.00168027, 0.00247762, 0.00113114,\n",
       "        0.00141085, 0.00035636, 0.00053792, 0.00065882, 0.00241058,\n",
       "        0.00128119, 0.00057543, 0.00256011, 0.00164696, 0.00123709,\n",
       "        0.00349829, 0.00097543, 0.00111327, 0.00115224, 0.00312206,\n",
       "        0.00148756, 0.00242144, 0.00146474]),\n",
       " 'mean_score_time': array([0.00579729, 0.0059278 , 0.0059092 , 0.00590281, 0.00632138,\n",
       "        0.00648794, 0.00671649, 0.00802317, 0.0062562 , 0.00725985,\n",
       "        0.00626917, 0.00645142, 0.00690413, 0.00721102, 0.0065505 ,\n",
       "        0.00682874, 0.006387  , 0.00648527, 0.0065515 , 0.00677505,\n",
       "        0.00714698, 0.00737033, 0.007166  , 0.00708976, 0.00675001,\n",
       "        0.00689425, 0.00676541, 0.00695462, 0.0070539 , 0.00705924,\n",
       "        0.00709677, 0.0072854 , 0.00685277, 0.00686679, 0.00713263,\n",
       "        0.00723128, 0.00717626, 0.0071897 , 0.00738802, 0.00770001,\n",
       "        0.00710497, 0.00733185, 0.00716949, 0.00730529, 0.00762482,\n",
       "        0.00776792, 0.00791864, 0.00809698]),\n",
       " 'std_score_time': array([1.24393061e-04, 1.38624033e-04, 1.01288002e-04, 6.34009471e-05,\n",
       "        2.65909788e-04, 4.27244354e-04, 2.97676686e-04, 1.04915020e-03,\n",
       "        1.93705586e-04, 1.11883257e-03, 1.35456789e-04, 2.31020168e-04,\n",
       "        3.88584106e-04, 7.55393732e-04, 1.58371210e-04, 1.83001839e-04,\n",
       "        1.24033860e-04, 7.51717409e-05, 1.09041305e-04, 2.22401809e-04,\n",
       "        2.06434509e-04, 1.88196131e-04, 3.89732069e-04, 1.61136011e-04,\n",
       "        1.98183160e-04, 4.15982242e-04, 9.92741754e-05, 2.13818982e-04,\n",
       "        2.32102582e-04, 1.77947846e-04, 1.29739321e-04, 7.60676186e-05,\n",
       "        1.77713096e-04, 1.01325215e-04, 2.35322524e-04, 2.58364409e-04,\n",
       "        9.68328892e-05, 5.33131665e-05, 6.67153977e-05, 1.57465709e-04,\n",
       "        1.04552525e-04, 4.47390237e-04, 4.71372283e-05, 1.40040230e-04,\n",
       "        2.62629657e-04, 2.41882763e-04, 1.87043434e-04, 2.37536104e-04]),\n",
       " 'param_max_depth': masked_array(data=[12, 12, 12, 12, 12, 12, 12, 12, 13, 13, 13, 13, 13, 13,\n",
       "                    13, 13, 14, 14, 14, 14, 14, 14, 14, 14, 15, 15, 15, 15,\n",
       "                    15, 15, 15, 15, 16, 16, 16, 16, 16, 16, 16, 16, 17, 17,\n",
       "                    17, 17, 17, 17, 17, 17],\n",
       "              mask=[False, False, False, False, False, False, False, False,\n",
       "                    False, False, False, False, False, False, False, False,\n",
       "                    False, False, False, False, False, False, False, False,\n",
       "                    False, False, False, False, False, False, False, False,\n",
       "                    False, False, False, False, False, False, False, False,\n",
       "                    False, False, False, False, False, False, False, False],\n",
       "        fill_value='?',\n",
       "             dtype=object),\n",
       " 'param_n_estimators': masked_array(data=[54, 55, 56, 57, 58, 59, 60, 62, 54, 55, 56, 57, 58, 59,\n",
       "                    60, 62, 54, 55, 56, 57, 58, 59, 60, 62, 54, 55, 56, 57,\n",
       "                    58, 59, 60, 62, 54, 55, 56, 57, 58, 59, 60, 62, 54, 55,\n",
       "                    56, 57, 58, 59, 60, 62],\n",
       "              mask=[False, False, False, False, False, False, False, False,\n",
       "                    False, False, False, False, False, False, False, False,\n",
       "                    False, False, False, False, False, False, False, False,\n",
       "                    False, False, False, False, False, False, False, False,\n",
       "                    False, False, False, False, False, False, False, False,\n",
       "                    False, False, False, False, False, False, False, False],\n",
       "        fill_value='?',\n",
       "             dtype=object),\n",
       " 'params': [{'max_depth': 12, 'n_estimators': 54},\n",
       "  {'max_depth': 12, 'n_estimators': 55},\n",
       "  {'max_depth': 12, 'n_estimators': 56},\n",
       "  {'max_depth': 12, 'n_estimators': 57},\n",
       "  {'max_depth': 12, 'n_estimators': 58},\n",
       "  {'max_depth': 12, 'n_estimators': 59},\n",
       "  {'max_depth': 12, 'n_estimators': 60},\n",
       "  {'max_depth': 12, 'n_estimators': 62},\n",
       "  {'max_depth': 13, 'n_estimators': 54},\n",
       "  {'max_depth': 13, 'n_estimators': 55},\n",
       "  {'max_depth': 13, 'n_estimators': 56},\n",
       "  {'max_depth': 13, 'n_estimators': 57},\n",
       "  {'max_depth': 13, 'n_estimators': 58},\n",
       "  {'max_depth': 13, 'n_estimators': 59},\n",
       "  {'max_depth': 13, 'n_estimators': 60},\n",
       "  {'max_depth': 13, 'n_estimators': 62},\n",
       "  {'max_depth': 14, 'n_estimators': 54},\n",
       "  {'max_depth': 14, 'n_estimators': 55},\n",
       "  {'max_depth': 14, 'n_estimators': 56},\n",
       "  {'max_depth': 14, 'n_estimators': 57},\n",
       "  {'max_depth': 14, 'n_estimators': 58},\n",
       "  {'max_depth': 14, 'n_estimators': 59},\n",
       "  {'max_depth': 14, 'n_estimators': 60},\n",
       "  {'max_depth': 14, 'n_estimators': 62},\n",
       "  {'max_depth': 15, 'n_estimators': 54},\n",
       "  {'max_depth': 15, 'n_estimators': 55},\n",
       "  {'max_depth': 15, 'n_estimators': 56},\n",
       "  {'max_depth': 15, 'n_estimators': 57},\n",
       "  {'max_depth': 15, 'n_estimators': 58},\n",
       "  {'max_depth': 15, 'n_estimators': 59},\n",
       "  {'max_depth': 15, 'n_estimators': 60},\n",
       "  {'max_depth': 15, 'n_estimators': 62},\n",
       "  {'max_depth': 16, 'n_estimators': 54},\n",
       "  {'max_depth': 16, 'n_estimators': 55},\n",
       "  {'max_depth': 16, 'n_estimators': 56},\n",
       "  {'max_depth': 16, 'n_estimators': 57},\n",
       "  {'max_depth': 16, 'n_estimators': 58},\n",
       "  {'max_depth': 16, 'n_estimators': 59},\n",
       "  {'max_depth': 16, 'n_estimators': 60},\n",
       "  {'max_depth': 16, 'n_estimators': 62},\n",
       "  {'max_depth': 17, 'n_estimators': 54},\n",
       "  {'max_depth': 17, 'n_estimators': 55},\n",
       "  {'max_depth': 17, 'n_estimators': 56},\n",
       "  {'max_depth': 17, 'n_estimators': 57},\n",
       "  {'max_depth': 17, 'n_estimators': 58},\n",
       "  {'max_depth': 17, 'n_estimators': 59},\n",
       "  {'max_depth': 17, 'n_estimators': 60},\n",
       "  {'max_depth': 17, 'n_estimators': 62}],\n",
       " 'split0_test_score': array([0.45043095, 0.45331128, 0.45193181, 0.44696964, 0.44696724,\n",
       "        0.44483715, 0.44685097, 0.45013714, 0.39882108, 0.40322984,\n",
       "        0.40357416, 0.39858226, 0.40105037, 0.39795281, 0.39992066,\n",
       "        0.40366268, 0.44128678, 0.44544616, 0.44215505, 0.43722592,\n",
       "        0.43729197, 0.4374613 , 0.43787828, 0.4386991 , 0.42618487,\n",
       "        0.43019823, 0.42690627, 0.42195209, 0.42340411, 0.41922726,\n",
       "        0.42622532, 0.42801644, 0.41607232, 0.42033309, 0.42204843,\n",
       "        0.41716879, 0.42126035, 0.41830429, 0.42079193, 0.42220316,\n",
       "        0.38595265, 0.3903313 , 0.39063746, 0.38550654, 0.3934812 ,\n",
       "        0.39341798, 0.39973288, 0.40177698]),\n",
       " 'split1_test_score': array([0.462395  , 0.46667731, 0.46751049, 0.46489363, 0.46721827,\n",
       "        0.46180687, 0.46121449, 0.45937331, 0.44527967, 0.45140644,\n",
       "        0.45406153, 0.45347117, 0.45198804, 0.45053639, 0.44752669,\n",
       "        0.45305221, 0.42720165, 0.43152724, 0.43649578, 0.41760069,\n",
       "        0.42045153, 0.42168849, 0.42494251, 0.42075404, 0.45906593,\n",
       "        0.46151893, 0.45798528, 0.45630104, 0.45843401, 0.45680427,\n",
       "        0.4492209 , 0.44593665, 0.43924334, 0.44332081, 0.44308316,\n",
       "        0.44088297, 0.44314546, 0.44725054, 0.44467091, 0.44409632,\n",
       "        0.398071  , 0.40692037, 0.40616599, 0.40087859, 0.40421996,\n",
       "        0.40211317, 0.4012194 , 0.40559419]),\n",
       " 'split2_test_score': array([0.67119713, 0.675839  , 0.67339131, 0.67433588, 0.68107704,\n",
       "        0.67903018, 0.69056248, 0.69038579, 0.70066358, 0.70478018,\n",
       "        0.70148909, 0.70719057, 0.71048197, 0.70726302, 0.71182124,\n",
       "        0.70870391, 0.71140025, 0.71461046, 0.71345559, 0.71539712,\n",
       "        0.72179048, 0.71810561, 0.71612156, 0.71657846, 0.68646091,\n",
       "        0.69248217, 0.69484385, 0.69792042, 0.70216714, 0.69952455,\n",
       "        0.70084564, 0.70471558, 0.68952159, 0.69574092, 0.69637206,\n",
       "        0.69475982, 0.69776323, 0.70010925, 0.70101729, 0.70023849,\n",
       "        0.70936091, 0.71414443, 0.7136855 , 0.71434791, 0.71738612,\n",
       "        0.71843382, 0.72593244, 0.72893737]),\n",
       " 'split3_test_score': array([0.46929603, 0.47114093, 0.47947133, 0.4812582 , 0.47971783,\n",
       "        0.48310976, 0.48191844, 0.48111332, 0.51336859, 0.51760767,\n",
       "        0.52487733, 0.52107783, 0.51932768, 0.52002638, 0.51868003,\n",
       "        0.51793005, 0.51334752, 0.51547912, 0.52070837, 0.51656763,\n",
       "        0.51931717, 0.51715705, 0.51744223, 0.51669559, 0.48129914,\n",
       "        0.48424698, 0.49540208, 0.49835887, 0.50023487, 0.49802356,\n",
       "        0.49669716, 0.4963655 , 0.50285915, 0.50852629, 0.50921927,\n",
       "        0.50826875, 0.50924229, 0.50621896, 0.50187816, 0.50266746,\n",
       "        0.49556705, 0.49851884, 0.50287323, 0.50704835, 0.5012406 ,\n",
       "        0.50220416, 0.49803877, 0.49670303]),\n",
       " 'split4_test_score': array([0.48724668, 0.48504567, 0.48767495, 0.488633  , 0.48784478,\n",
       "        0.48951336, 0.48657932, 0.47533183, 0.51408418, 0.51227531,\n",
       "        0.50918233, 0.49975617, 0.50442909, 0.50291216, 0.49656443,\n",
       "        0.48505884, 0.55198923, 0.5474135 , 0.54330025, 0.54513929,\n",
       "        0.54915863, 0.5408352 , 0.53608291, 0.52762976, 0.53453281,\n",
       "        0.52841171, 0.52082393, 0.52514478, 0.52592269, 0.51811264,\n",
       "        0.52158155, 0.50340306, 0.5351262 , 0.5275667 , 0.51889283,\n",
       "        0.51688327, 0.52330605, 0.51541397, 0.50846701, 0.49609609,\n",
       "        0.57370924, 0.56825455, 0.57538972, 0.57734275, 0.58290442,\n",
       "        0.58149738, 0.57168358, 0.55462513]),\n",
       " 'mean_test_score': array([0.50813271, 0.51042401, 0.5120146 , 0.51123528, 0.51258389,\n",
       "        0.51167607, 0.51344425, 0.51128993, 0.51444389, 0.5178618 ,\n",
       "        0.51863794, 0.51601927, 0.51745908, 0.51574095, 0.51490738,\n",
       "        0.51368952, 0.52904271, 0.53089493, 0.5312225 , 0.5263832 ,\n",
       "        0.52959892, 0.52704826, 0.52649332, 0.52407264, 0.51751502,\n",
       "        0.51938015, 0.51919954, 0.5199408 , 0.52203843, 0.51834518,\n",
       "        0.51892052, 0.5156978 , 0.51656293, 0.51909825, 0.51792568,\n",
       "        0.5155947 , 0.51894522, 0.51746375, 0.51537174, 0.51306926,\n",
       "        0.51251769, 0.51562227, 0.51773637, 0.51700834, 0.5198319 ,\n",
       "        0.51951868, 0.51931123, 0.51752201]),\n",
       " 'std_test_score': array([0.0824318 , 0.08335964, 0.08161321, 0.08283607, 0.08540121,\n",
       "        0.08519462, 0.08974702, 0.09026295, 0.10282606, 0.10252894,\n",
       "        0.10100084, 0.10447537, 0.10517079, 0.10490477, 0.1067001 ,\n",
       "        0.10458062, 0.10211045, 0.10145954, 0.10040325, 0.10582342,\n",
       "        0.10760736, 0.1057861 , 0.10424321, 0.10499992, 0.09157098,\n",
       "        0.09231175, 0.09350166, 0.09576077, 0.09668597, 0.09683042,\n",
       "        0.09703417, 0.09883155, 0.09649184, 0.09686414, 0.09668937,\n",
       "        0.09742274, 0.09737333, 0.09826893, 0.09866048, 0.09846177,\n",
       "        0.11994685, 0.11834567, 0.11881361, 0.12124619, 0.12060066,\n",
       "        0.12119003, 0.12179959, 0.12039581]),\n",
       " 'rank_test_score': array([48, 47, 43, 46, 41, 44, 39, 45, 37, 22, 19, 30, 27, 31, 36, 38,  4,\n",
       "         2,  1,  7,  3,  5,  6,  8, 25, 13, 15, 10,  9, 20, 18, 32, 29, 16,\n",
       "        21, 34, 17, 26, 35, 40, 42, 33, 23, 28, 11, 12, 14, 24],\n",
       "       dtype=int32)}"
      ]
     },
     "execution_count": 125,
     "metadata": {},
     "output_type": "execute_result"
    }
   ],
   "source": [
    "grid_rf.cv_results_"
   ]
  },
  {
   "cell_type": "code",
   "execution_count": 126,
   "metadata": {},
   "outputs": [
    {
     "data": {
      "image/png": "[encoded data removed]",
      "text/plain": [
       "<Figure size 432x288 with 1 Axes>"
      ]
     },
     "metadata": {
      "needs_background": "light"
     },
     "output_type": "display_data"
    }
   ],
   "source": [
    "scores = grid_rf.cv_results_['mean_test_score']\n",
    "\n",
    "n_est = [54, 55, 56, 57, 58, 59, 60, 62]\n",
    "m_depth=[12, 13, 14, 15, 16, 17]\n",
    "scores = np.array(scores).reshape(len(m_depth), len(n_est))\n",
    "fig = plt.figure()\n",
    "ax = plt.subplot(111)\n",
    "for ind, i in enumerate(m_depth):\n",
    "    plt.plot(n_est, scores[ind], '-o', label='n estimator.' + str(i),)\n",
    "    \n",
    "ax.legend(loc='center left', bbox_to_anchor=(1, 0.5))\n",
    "plt.xlabel('Mean score')\n",
    "plt.ylabel('Max depth')\n",
    "plt.grid(True)\n",
    "plt.show()"
   ]
  },
  {
   "cell_type": "code",
   "execution_count": 127,
   "metadata": {},
   "outputs": [
    {
     "data": {
      "text/plain": [
       "RandomForestRegressor(bootstrap=True, criterion='mse', max_depth=14,\n",
       "                      max_features='sqrt', max_leaf_nodes=None,\n",
       "                      min_impurity_decrease=0.0, min_impurity_split=None,\n",
       "                      min_samples_leaf=1, min_samples_split=2,\n",
       "                      min_weight_fraction_leaf=0.0, n_estimators=56,\n",
       "                      n_jobs=None, oob_score=False, random_state=2, verbose=0,\n",
       "                      warm_start=False)"
      ]
     },
     "execution_count": 127,
     "metadata": {},
     "output_type": "execute_result"
    }
   ],
   "source": [
    "# add both training and validation data together as the new training data\n",
    "rf = RandomForestRegressor(random_state=2, max_features = 'sqrt', max_depth= 14, n_estimators=56)\n",
    "rf.fit(model_train_x, model_train_y)"
   ]
  },
  {
   "cell_type": "markdown",
   "metadata": {},
   "source": [
    "# Model Evaluation"
   ]
  },
  {
   "cell_type": "code",
   "execution_count": 130,
   "metadata": {},
   "outputs": [
    {
     "name": "stdout",
     "output_type": "stream",
     "text": [
      "lasso_f score:  0.09954927178753703\n",
      "Mean square error of lasso_f:  238953191.99910036\n",
      "Root mean squared error of lasso_f: 15458.110880670392\n"
     ]
    }
   ],
   "source": [
    "# Lasso_f test (with linear features)\n",
    "\n",
    "lasso_f_score = lasso_f.score(model_test_x, model_test_y)\n",
    "pred_y = lasso_f.predict(model_test_x)\n",
    "\n",
    "# The mean squared error and root mean square error\n",
    "MSE_lasso_f = mean_squared_error(model_test_y, pred_y)\n",
    "RMSE_lasso_f = sqrt(mean_squared_error(model_test_y, pred_y))\n",
    "\n",
    "print ('lasso_f score: ', lasso_f_score)\n",
    "print ('Mean square error of lasso_f: ', MSE_lasso_f)\n",
    "print ('Root mean squared error of lasso_f:', RMSE_lasso_f)"
   ]
  },
  {
   "cell_type": "code",
   "execution_count": 133,
   "metadata": {},
   "outputs": [
    {
     "name": "stdout",
     "output_type": "stream",
     "text": [
      "lasso_fp score:  0.3951041437576005\n",
      "Mean square error of lasso_fp:  160521604.5114302\n",
      "Root mean squared error of lasso_fp: 12669.71209268112\n"
     ]
    }
   ],
   "source": [
    "# Lasso_fp test (with polynomial features)\n",
    "model_test_xp = poly.fit_transform(model_test_x)\n",
    "pred_y = lasso_fp.predict(model_test_xp)\n",
    "\n",
    "lasso_fp_score = lasso_fp.score(model_test_xp, model_test_y)\n",
    "MSE_lasso_fp = mean_squared_error(model_test_y, pred_y)\n",
    "RMSE_lasso_fp = sqrt(mean_squared_error(model_test_y, pred_y))\n",
    "\n",
    "print ('lasso_fp score: ', lasso_fp_score)\n",
    "print ('Mean square error of lasso_fp: ', MSE_lasso_fp)\n",
    "print ('Root mean squared error of lasso_fp:', RMSE_lasso_fp)"
   ]
  },
  {
   "cell_type": "code",
   "execution_count": 134,
   "metadata": {},
   "outputs": [
    {
     "name": "stdout",
     "output_type": "stream",
     "text": [
      "ridge_f score:  0.11372732348534963\n",
      "Mean square error of ridge_f:  235190753.2521785\n",
      "Root mean squared error of ridge_f: 15335.930139778888\n"
     ]
    }
   ],
   "source": [
    "# ridge_f test (with linear features)\n",
    "\n",
    "ridge_f_score = ridge_f.score(model_test_x, model_test_y)\n",
    "pred_y = ridge_f.predict(model_test_x)\n",
    "\n",
    "# The mean squared error and root mean square error\n",
    "MSE_ridge_f = mean_squared_error(model_test_y, pred_y)\n",
    "RMSE_ridge_f = sqrt(mean_squared_error(model_test_y, pred_y))\n",
    "\n",
    "print ('ridge_f score: ', ridge_f_score)\n",
    "print ('Mean square error of ridge_f: ', MSE_ridge_f)\n",
    "print ('Root mean squared error of ridge_f:', RMSE_ridge_f)"
   ]
  },
  {
   "cell_type": "code",
   "execution_count": 135,
   "metadata": {},
   "outputs": [
    {
     "name": "stdout",
     "output_type": "stream",
     "text": [
      "ridge_fp score:  0.11372732348534963\n",
      "Mean square error of ridge_fp:  235190753.2521785\n",
      "Root mean squared error of ridge_fp: 15335.930139778888\n"
     ]
    }
   ],
   "source": [
    "# ridge_fp test (with polynomial features)\n",
    "model_test_xp = poly.fit_transform(model_test_x)\n",
    "\n",
    "ridge_fp_score = ridge_fp.score(model_test_xp, model_test_y)\n",
    "MSE_ridge_fp = mean_squared_error(model_test_y, pred_y)\n",
    "RMSE_ridge_fp = sqrt(mean_squared_error(model_test_y, pred_y))\n",
    "\n",
    "pred_y = ridge_fp.predict(model_test_xp)\n",
    "print ('ridge_fp score: ', ridge_f_score)\n",
    "print ('Mean square error of ridge_fp: ', MSE_ridge_fp)\n",
    "print ('Root mean squared error of ridge_fp:', RMSE_ridge_fp)"
   ]
  },
  {
   "cell_type": "code",
   "execution_count": 136,
   "metadata": {},
   "outputs": [
    {
     "name": "stdout",
     "output_type": "stream",
     "text": [
      "rf score:  0.5004288716064247\n",
      "Mean square error of rf:  132571513.37665495\n",
      "Root mean squared error of rf: 11513.970356773329\n"
     ]
    }
   ],
   "source": [
    "rf_score = rf.score(model_test_x, model_test_y)\n",
    "\n",
    "pred_y = rf.predict(model_test_x)\n",
    "MSE_rf = mean_squared_error(model_test_y, pred_y)\n",
    "RMSE_rf = sqrt(mean_squared_error(model_test_y, pred_y))\n",
    "\n",
    "# The mean squared error and root mean square error\n",
    "print ('rf score: ', rf_score)\n",
    "print ('Mean square error of rf: ', MSE_rf)\n",
    "print ('Root mean squared error of rf:', RMSE_rf)"
   ]
  },
  {
   "cell_type": "markdown",
   "metadata": {},
   "source": [
    "### Comparison Between 5 Models\n",
    "Compared the max score, mean squared error(MSE), and root mean squared error(RSME) of 5 models. Random forest consistantly showing the best result."
   ]
  },
  {
   "cell_type": "code",
   "execution_count": 140,
   "metadata": {
    "scrolled": false
   },
   "outputs": [
    {
     "name": "stderr",
     "output_type": "stream",
     "text": [
      "No handles with labels found to put in legend.\n"
     ]
    },
    {
     "data": {
      "image/png": "[encoded data removed]",
      "text/plain": [
       "<Figure size 432x288 with 1 Axes>"
      ]
     },
     "metadata": {
      "needs_background": "light"
     },
     "output_type": "display_data"
    },
    {
     "name": "stderr",
     "output_type": "stream",
     "text": [
      "No handles with labels found to put in legend.\n"
     ]
    },
    {
     "data": {
      "image/png": "[encoded data removed]",
      "text/plain": [
       "<Figure size 432x288 with 1 Axes>"
      ]
     },
     "metadata": {
      "needs_background": "light"
     },
     "output_type": "display_data"
    },
    {
     "name": "stderr",
     "output_type": "stream",
     "text": [
      "No handles with labels found to put in legend.\n"
     ]
    },
    {
     "data": {
      "image/png": "[encoded data removed]",
      "text/plain": [
       "<Figure size 432x288 with 1 Axes>"
      ]
     },
     "metadata": {
      "needs_background": "light"
     },
     "output_type": "display_data"
    }
   ],
   "source": [
    "lst_score = [lasso_f_score, lasso_fp_score, ridge_f_score, ridge_fp_score, rf_score]\n",
    "MSE_lst =  [MSE_lasso_f, MSE_lasso_fp, MSE_ridge_f, MSE_ridge_fp, MSE_rf]\n",
    "RMSE_lst =  [RMSE_lasso_f, RMSE_lasso_fp, RMSE_ridge_f, RMSE_ridge_fp, RMSE_rf]\n",
    "model_lst = ['Lasso_linear','Lasso poly', 'Ridge linear', 'Ridge poly', 'Random forest']\n",
    "\n",
    "plt.figure(1)\n",
    "plt.plot(model_lst, lst_score, 'ro')\n",
    "plt.legend(loc = 9)\n",
    "plt.legend(['r-squre / score'])\n",
    "plt.xlabel('model names',fontsize =16)\n",
    "plt.ylabel('score / r square', fontsize =16)\n",
    "plt.grid(True)\n",
    "plt.show()\n",
    "\n",
    "plt.figure(2)\n",
    "plt.plot(model_lst, MSE_lst, 'g^')\n",
    "plt.legend(loc = 9)\n",
    "plt.legend(['mean square error (MSE)'])\n",
    "plt.xlabel('model names', fontsize =16)\n",
    "plt.ylabel('mean square error', fontsize =16)\n",
    "plt.grid(True)\n",
    "plt.show()\n",
    "\n",
    "plt.figure(3)\n",
    "plt.plot(model_lst, RMSE_lst, 'bs')\n",
    "plt.legend(loc = 9)\n",
    "plt.legend(['root mean square error (RMSE)'])\n",
    "plt.xlabel('model names', fontsize =16)\n",
    "plt.ylabel('root mean square error', fontsize =16)\n",
    "plt.grid(True)\n",
    "plt.show()"
   ]
  },
  {
   "cell_type": "markdown",
   "metadata": {},
   "source": [
    "### Feature Importance"
   ]
  },
  {
   "cell_type": "code",
   "execution_count": 141,
   "metadata": {},
   "outputs": [
    {
     "name": "stdout",
     "output_type": "stream",
     "text": [
      "Feature importance ranking:\n",
      "1. feature 2 weighted_categorical_position (0.131688)\n",
      "2. feature 1 weighted_horizontal_poition (0.129211)\n",
      "3. feature 0 imdb_votes (0.121377)\n",
      "4. feature 7 budget (0.067912)\n",
      "5. feature 3 boxoffice (0.056745)\n",
      "6. feature 4 imdb_rating (0.053285)\n",
      "7. feature 6 duration_in_mins (0.046823)\n",
      "8. feature 8 metacritic_score (0.044479)\n",
      "9. feature 5 star_category (0.037498)\n",
      "10. feature 9 lionsgate (0.033263)\n",
      "11. feature 53 mgm (0.027177)\n",
      "12. feature 11 other (0.027164)\n",
      "13. feature 10 paramount (0.017493)\n",
      "14. feature 18 G (0.017193)\n",
      "15. feature 28 NC-17 (0.016409)\n",
      "16. feature 52 NotRated (0.014533)\n",
      "17. feature 38 PG (0.010977)\n",
      "18. feature 22 PG-13 (0.009085)\n",
      "19. feature 49 R (0.008411)\n",
      "20. feature 42 BAFTA (0.008158)\n",
      "21. feature 23 Golden Globe (0.007365)\n",
      "22. feature 29 Oscar (0.006669)\n",
      "23. feature 30 no award (0.006659)\n",
      "24. feature 54 other award (0.006514)\n",
      "25. feature 15 Action (0.006195)\n",
      "26. feature 17 Adventure (0.006067)\n",
      "27. feature 27 Animation (0.005764)\n",
      "28. feature 50 Comedy (0.005687)\n",
      "29. feature 33 Crime (0.005161)\n",
      "30. feature 20 Documentary (0.005097)\n",
      "31. feature 47 Drama (0.004686)\n",
      "32. feature 48 Fantasy (0.004242)\n",
      "33. feature 24 Foreign/International (0.004223)\n",
      "34. feature 16 Horror (0.004222)\n",
      "35. feature 51 Independent (0.004182)\n",
      "36. feature 25 Kids & Family (0.003900)\n",
      "37. feature 40 Music (0.003799)\n",
      "38. feature 12 Musicals (0.003347)\n",
      "39. feature 41 Mystery (0.003021)\n",
      "40. feature 44 Romance (0.002917)\n",
      "41. feature 39 Sci-Fi (0.002817)\n",
      "42. feature 35 Sport (0.002785)\n",
      "43. feature 43 Thriller (0.002350)\n",
      "44. feature 26 War (0.002305)\n",
      "45. feature 36 Western (0.002276)\n",
      "46. feature 21 Misc_gen (0.002042)\n",
      "47. feature 55 1916-1974 (0.001623)\n",
      "48. feature 31 1974-1991 (0.001509)\n",
      "49. feature 46 1991-2001 (0.001454)\n",
      "50. feature 34 2001-2006 (0.000880)\n",
      "51. feature 37 2006-2008 (0.000543)\n",
      "52. feature 14 2008-2010 (0.000459)\n",
      "53. feature 13 2010-2012 (0.000196)\n",
      "54. feature 32 2012-2013 (0.000078)\n",
      "55. feature 45 2013-2014 (0.000046)\n",
      "56. feature 19 2014-2017 (0.000038)\n"
     ]
    },
    {
     "name": "stderr",
     "output_type": "stream",
     "text": [
      "/Users/yukunshen/opt/anaconda3/lib/python3.7/site-packages/ipykernel_launcher.py:4: FutureWarning: The 'get_values' method is deprecated and will be removed in a future version. Use '.to_numpy()' or '.array' instead.\n",
      "  after removing the cwd from sys.path.\n"
     ]
    },
    {
     "data": {
      "image/png": "[encoded data removed]",
      "text/plain": [
       "<Figure size 432x288 with 1 Axes>"
      ]
     },
     "metadata": {
      "needs_background": "light"
     },
     "output_type": "display_data"
    }
   ],
   "source": [
    "importances = rf.feature_importances_\n",
    "std = np.std([tree.feature_importances_ for tree in rf.estimators_], axis=0)\n",
    "indices = np.argsort(importances)[::-1]\n",
    "feature_name = model_test_x.columns.get_values()\n",
    "\n",
    "# Print the feature ranking\n",
    "print(\"Feature importance ranking:\")\n",
    "\n",
    "for f in range(model_test_x.shape[1]):\n",
    "    print(\"%d. feature %d %s (%f)\" % (f + 1, indices[f],  feature_name[f], importances[indices[f]]))\n",
    "    \n",
    "plt.figure(1)\n",
    "plt.bar(feature_name[:11], importances[indices[:11]])\n",
    "plt.xticks(rotation=90)\n",
    "plt.show()"
   ]
  }
 ],
 "metadata": {
  "kernelspec": {
   "display_name": "Python 3",
   "language": "python",
   "name": "python3"
  },
  "language_info": {
   "codemirror_mode": {
    "name": "ipython",
    "version": 3
   },
   "file_extension": ".py",
   "mimetype": "text/x-python",
   "name": "python",
   "nbconvert_exporter": "python",
   "pygments_lexer": "ipython3",
   "version": "3.7.4"
  }
 },
 "nbformat": 4,
 "nbformat_minor": 2
}
